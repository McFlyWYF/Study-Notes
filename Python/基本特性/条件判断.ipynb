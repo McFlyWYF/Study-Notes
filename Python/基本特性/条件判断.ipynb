{
 "cells": [
  {
   "cell_type": "markdown",
   "metadata": {},
   "source": [
    "## 条件判断"
   ]
  },
  {
   "cell_type": "markdown",
   "metadata": {},
   "source": [
    "* 一个简单的if语句。"
   ]
  },
  {
   "cell_type": "code",
   "execution_count": 1,
   "metadata": {},
   "outputs": [
    {
     "name": "stdout",
     "output_type": "stream",
     "text": [
      "teenager\n"
     ]
    }
   ],
   "source": [
    "age = 12\n",
    "if age > 18:\n",
    "    print('adult')\n",
    "else:\n",
    "    print('teenager')"
   ]
  },
  {
   "cell_type": "code",
   "execution_count": 2,
   "metadata": {},
   "outputs": [
    {
     "name": "stdout",
     "output_type": "stream",
     "text": [
      "kid\n"
     ]
    }
   ],
   "source": [
    "age = 3\n",
    "if age >= 18:\n",
    "    print('adult')\n",
    "elif age >= 6:\n",
    "    print('teenager')\n",
    "else:\n",
    "    print('kid')"
   ]
  },
  {
   "cell_type": "markdown",
   "metadata": {},
   "source": [
    "* 还可以这样写:"
   ]
  },
  {
   "cell_type": "code",
   "execution_count": 5,
   "metadata": {},
   "outputs": [
    {
     "name": "stdout",
     "output_type": "stream",
     "text": [
      "true\n"
     ]
    }
   ],
   "source": [
    "x = 1\n",
    "if x:\n",
    "    print('true')#只要x是非零数值，非空字符串，非空list，就是true，否则为false。"
   ]
  },
  {
   "cell_type": "markdown",
   "metadata": {},
   "source": [
    "* input获取输入。"
   ]
  },
  {
   "cell_type": "code",
   "execution_count": 11,
   "metadata": {},
   "outputs": [
    {
     "name": "stdout",
     "output_type": "stream",
     "text": [
      "brith:1997\n",
      "00前\n"
     ]
    }
   ],
   "source": [
    "s = input('brith:')\n",
    "brith = int(s)#input()返回的数据类型是str，str不能直接和整数比较，必须转换为整数\n",
    "if brith < 2000:\n",
    "    print('00前')\n",
    "else:\n",
    "    print('00后')"
   ]
  },
  {
   "cell_type": "markdown",
   "metadata": {},
   "source": [
    "#### 小练习"
   ]
  },
  {
   "cell_type": "markdown",
   "metadata": {},
   "source": [
    "* 小明身高 1.75，体重 80.5kg。请根据 BMI 公式（体重除以身高的平方）\n",
    "帮小明计算他的 BMI 指数，并根据 BMI 指数：\n",
    "* 低于 18.5：过轻\n",
    "* 18.5-25：正常\n",
    "* 25-28：过重\n",
    "* 28-32：肥胖\n",
    "* 高于 32：严重肥胖"
   ]
  },
  {
   "cell_type": "code",
   "execution_count": 16,
   "metadata": {},
   "outputs": [
    {
     "name": "stdout",
     "output_type": "stream",
     "text": [
      "26.285714285714285\n",
      "过重\n"
     ]
    }
   ],
   "source": [
    "height = 80.5\n",
    "taller = 1.75\n",
    "BMI = height / (taller * taller)\n",
    "print(BMI)\n",
    "if BMI < 18.5:\n",
    "    print(\"过轻\")\n",
    "elif BMI > 18.5 and BMI < 25:\n",
    "    print('正常')\n",
    "elif BMI > 25 and BMI < 28:\n",
    "    print('过重')\n",
    "elif BMI > 28 and BMI < 32:\n",
    "    print('肥胖')\n",
    "else:\n",
    "    print('过于肥胖')"
   ]
  }
 ],
 "metadata": {
  "kernelspec": {
   "display_name": "Python 3",
   "language": "python",
   "name": "python3"
  },
  "language_info": {
   "codemirror_mode": {
    "name": "ipython",
    "version": 3
   },
   "file_extension": ".py",
   "mimetype": "text/x-python",
   "name": "python",
   "nbconvert_exporter": "python",
   "pygments_lexer": "ipython3",
   "version": "3.7.0"
  }
 },
 "nbformat": 4,
 "nbformat_minor": 2
}
