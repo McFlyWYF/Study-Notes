{
 "cells": [
  {
   "cell_type": "markdown",
   "metadata": {},
   "source": [
    "## 文档测试"
   ]
  },
  {
   "cell_type": "code",
   "execution_count": 3,
   "metadata": {},
   "outputs": [
    {
     "data": {
      "text/plain": [
       "'def'"
      ]
     },
     "execution_count": 3,
     "metadata": {},
     "output_type": "execute_result"
    }
   ],
   "source": [
    "import re\n",
    "m = re.search('(?<=abc)def','abcdef')\n",
    "m.group(0)"
   ]
  },
  {
   "cell_type": "code",
   "execution_count": 5,
   "metadata": {},
   "outputs": [],
   "source": [
    "def abs(n):\n",
    "    '''\n",
    "    Function to get absolute value of number.\n",
    "    \n",
    "    Example:\n",
    "    \n",
    "    >>>abs(1)\n",
    "    1\n",
    "    >>>abs(-1)\n",
    "    1\n",
    "    >>>abs(0)\n",
    "    0\n",
    "    '''\n",
    "    return n if n >= 0 else (-n)"
   ]
  },
  {
   "cell_type": "markdown",
   "metadata": {},
   "source": [
    "doctest模块可以直接提取注释中的代码并执行测试。"
   ]
  },
  {
   "cell_type": "code",
   "execution_count": 9,
   "metadata": {},
   "outputs": [],
   "source": [
    "class Dict(dict):\n",
    "    '''\n",
    "    Simple dict but also support access as x.y style.\n",
    "    >>> d1 = Dict()\n",
    "    >>> d1['x'] = 100\n",
    "    >>> d1.x\n",
    "    100\n",
    "    >>> d1.y = 200\n",
    "    >>> d1['y']\n",
    "    200\n",
    "    >>> d2 = Dict(a=1, b=2, c='3')\n",
    "    >>> d2.c\n",
    "    '3'\n",
    "    >>> d2['empty']\n",
    "    Traceback (most recent call last):\n",
    "    ...\n",
    "    KeyError: 'empty'\n",
    "    >>> d2.empty\n",
    "    Traceback (most recent call last):\n",
    "    ...\n",
    "    AttributeError: 'Dict' object has no attribute 'empty'\n",
    "    '''\n",
    "    def __init__(self, **kw):\n",
    "        super(Dict, self).__init__(**kw)\n",
    "    def __getattr__(self, key):\n",
    "        try:\n",
    "            return self[key]\n",
    "        except KeyError:\n",
    "            raise AttributeError(r\"'Dict' object has no attribute '%s'\" % key)\n",
    "    def __setattr__(self, key, value):\n",
    "        self[key] = value"
   ]
  },
  {
   "cell_type": "code",
   "execution_count": 10,
   "metadata": {},
   "outputs": [
    {
     "ename": "IndentationError",
     "evalue": "expected an indented block (<ipython-input-10-58b531ce203a>, line 2)",
     "output_type": "error",
     "traceback": [
      "\u001b[1;36m  File \u001b[1;32m\"<ipython-input-10-58b531ce203a>\"\u001b[1;36m, line \u001b[1;32m2\u001b[0m\n\u001b[1;33m    import doctest\u001b[0m\n\u001b[1;37m         ^\u001b[0m\n\u001b[1;31mIndentationError\u001b[0m\u001b[1;31m:\u001b[0m expected an indented block\n"
     ]
    }
   ],
   "source": [
    "if __name__=='__main__':\n",
    "import doctest\n",
    "doctest.testmod()"
   ]
  },
  {
   "cell_type": "markdown",
   "metadata": {},
   "source": [
    "#### 小练习"
   ]
  },
  {
   "cell_type": "code",
   "execution_count": 7,
   "metadata": {},
   "outputs": [],
   "source": [
    "def fact(n):\n",
    "    '''\n",
    "    Function to get n!\n",
    "    Example:\n",
    "    >>> fact(1)\n",
    "    1\n",
    "    >>> fact(2)\n",
    "    2\n",
    "    >>> fact(3)\n",
    "    6\n",
    "    >>> fact(-1)\n",
    "    Traceback(most recent call last)\n",
    "        ...\n",
    "    KeyError: 'a'\n",
    "    '''\n",
    "    \n",
    "    if n < 1:\n",
    "        raise ValueError()\n",
    "    if n == 1:\n",
    "        return 1\n",
    "    return n * face(n - 1)"
   ]
  },
  {
   "cell_type": "code",
   "execution_count": 8,
   "metadata": {},
   "outputs": [
    {
     "name": "stdout",
     "output_type": "stream",
     "text": [
      "**********************************************************************\n",
      "File \"__main__\", line 7, in __main__.fact\n",
      "Failed example:\n",
      "    fact(2)\n",
      "Exception raised:\n",
      "    Traceback (most recent call last):\n",
      "      File \"D:\\Anaconda\\lib\\doctest.py\", line 1329, in __run\n",
      "        compileflags, 1), test.globs)\n",
      "      File \"<doctest __main__.fact[1]>\", line 1, in <module>\n",
      "        fact(2)\n",
      "      File \"<ipython-input-7-8b5819b0a5e1>\", line 21, in fact\n",
      "        return n * face(n - 1)\n",
      "    NameError: name 'face' is not defined\n",
      "**********************************************************************\n",
      "File \"__main__\", line 9, in __main__.fact\n",
      "Failed example:\n",
      "    fact(3)\n",
      "Exception raised:\n",
      "    Traceback (most recent call last):\n",
      "      File \"D:\\Anaconda\\lib\\doctest.py\", line 1329, in __run\n",
      "        compileflags, 1), test.globs)\n",
      "      File \"<doctest __main__.fact[2]>\", line 1, in <module>\n",
      "        fact(3)\n",
      "      File \"<ipython-input-7-8b5819b0a5e1>\", line 21, in fact\n",
      "        return n * face(n - 1)\n",
      "    NameError: name 'face' is not defined\n",
      "**********************************************************************\n",
      "File \"__main__\", line 11, in __main__.fact\n",
      "Failed example:\n",
      "    fact(-1)\n",
      "Exception raised:\n",
      "    Traceback (most recent call last):\n",
      "      File \"D:\\Anaconda\\lib\\doctest.py\", line 1329, in __run\n",
      "        compileflags, 1), test.globs)\n",
      "      File \"<doctest __main__.fact[3]>\", line 1, in <module>\n",
      "        fact(-1)\n",
      "      File \"<ipython-input-7-8b5819b0a5e1>\", line 18, in fact\n",
      "        raise ValueError()\n",
      "    ValueError\n",
      "**********************************************************************\n",
      "1 items had failures:\n",
      "   3 of   4 in __main__.fact\n",
      "***Test Failed*** 3 failures.\n"
     ]
    }
   ],
   "source": [
    "if __name__ == '__main__':\n",
    "    import doctest\n",
    "    doctest.testmod()"
   ]
  }
 ],
 "metadata": {
  "kernelspec": {
   "display_name": "Python 3",
   "language": "python",
   "name": "python3"
  },
  "language_info": {
   "codemirror_mode": {
    "name": "ipython",
    "version": 3
   },
   "file_extension": ".py",
   "mimetype": "text/x-python",
   "name": "python",
   "nbconvert_exporter": "python",
   "pygments_lexer": "ipython3",
   "version": "3.7.0"
  }
 },
 "nbformat": 4,
 "nbformat_minor": 2
}
