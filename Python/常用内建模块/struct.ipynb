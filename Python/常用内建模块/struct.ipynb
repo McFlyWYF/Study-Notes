{
 "cells": [
  {
   "cell_type": "markdown",
   "metadata": {},
   "source": [
    "## struct"
   ]
  },
  {
   "cell_type": "markdown",
   "metadata": {},
   "source": [
    "把一个32位无符号整数变成字节，也就是4个长度的bytes。"
   ]
  },
  {
   "cell_type": "code",
   "execution_count": 3,
   "metadata": {},
   "outputs": [
    {
     "data": {
      "text/plain": [
       "b'c\\x9c@c'"
      ]
     },
     "execution_count": 3,
     "metadata": {},
     "output_type": "execute_result"
    }
   ],
   "source": [
    "n = 10240099\n",
    "b1 = (n & 0xff000000 >> 24)\n",
    "b2 = (n & 0xff0000) >> 16\n",
    "b3 = (n & 0xff00) >> 8\n",
    "b4 = n & 0xff\n",
    "bs = bytes([b1,b2,b3,b4])\n",
    "bs"
   ]
  },
  {
   "cell_type": "markdown",
   "metadata": {},
   "source": [
    "解决bytes和其他二进制数据类型的转换。"
   ]
  },
  {
   "cell_type": "markdown",
   "metadata": {},
   "source": [
    "struct的pack函数把任意数据类型变成bytes。"
   ]
  },
  {
   "cell_type": "code",
   "execution_count": 4,
   "metadata": {},
   "outputs": [
    {
     "data": {
      "text/plain": [
       "b'\\x00\\x9c@c'"
      ]
     },
     "execution_count": 4,
     "metadata": {},
     "output_type": "execute_result"
    }
   ],
   "source": [
    "import struct\n",
    "struct.pack('>I',10240099)"
   ]
  },
  {
   "cell_type": "markdown",
   "metadata": {},
   "source": [
    "pack的第一个参数是处理指令，‘>I’的意思是：>表示字节顺序是网络序，I表示4字节无符号整数，后面的参数个数和处理指令一致。"
   ]
  },
  {
   "cell_type": "markdown",
   "metadata": {},
   "source": [
    "unpack把bytes变成相应的数据类型。"
   ]
  },
  {
   "cell_type": "code",
   "execution_count": 5,
   "metadata": {},
   "outputs": [
    {
     "data": {
      "text/plain": [
       "(4042322160, 32896)"
      ]
     },
     "execution_count": 5,
     "metadata": {},
     "output_type": "execute_result"
    }
   ],
   "source": [
    "struct.unpack('>IH', b'\\xf0\\xf0\\xf0\\xf0\\x80\\x80')"
   ]
  },
  {
   "cell_type": "markdown",
   "metadata": {},
   "source": [
    "I：4 字节无符号整数和 H：2字节无符号整数"
   ]
  },
  {
   "cell_type": "code",
   "execution_count": 6,
   "metadata": {},
   "outputs": [],
   "source": [
    "s = b'\\x42\\x4d\\x38\\x8c\\x0a\\x00\\x00\\x00\\x00\\x00\\x36\\x00\\x00\\x00\\x28\\x00\\x00\\x00\\x80\\x02\\x00\\x00\\x68\\x01\\x00\\x00\\x01\\x00\\x18\\x00'"
   ]
  },
  {
   "cell_type": "code",
   "execution_count": 7,
   "metadata": {},
   "outputs": [
    {
     "data": {
      "text/plain": [
       "b'BM8\\x8c\\n\\x00\\x00\\x00\\x00\\x006\\x00\\x00\\x00(\\x00\\x00\\x00\\x80\\x02\\x00\\x00h\\x01\\x00\\x00\\x01\\x00\\x18\\x00'"
      ]
     },
     "execution_count": 7,
     "metadata": {},
     "output_type": "execute_result"
    }
   ],
   "source": [
    "s"
   ]
  },
  {
   "cell_type": "markdown",
   "metadata": {},
   "source": [
    "两个字节：'BM'表示 Windows 位图，'BA'表示 OS/2 位图； 一个 4 字节\n",
    "整数：表示位图大小； 一个 4 字节整数：保留位，始终为 0； 一个 4\n",
    "字节整数：实际图像的偏移量；一个 4 字节整数：Header 的字节数；一\n",
    "个 4 字节整数：图像宽度； 一个 4 字节整数：图像高度； 一个 2 字节\n",
    "整数：始终为 1； 一个 2 字节整数：颜色数。\n"
   ]
  },
  {
   "cell_type": "code",
   "execution_count": 8,
   "metadata": {},
   "outputs": [
    {
     "data": {
      "text/plain": [
       "(b'B', b'M', 691256, 0, 54, 40, 640, 360, 1, 24)"
      ]
     },
     "execution_count": 8,
     "metadata": {},
     "output_type": "execute_result"
    }
   ],
   "source": [
    "struct.unpack('<ccIIIIIIHH',s)"
   ]
  }
 ],
 "metadata": {
  "kernelspec": {
   "display_name": "Python 3",
   "language": "python",
   "name": "python3"
  },
  "language_info": {
   "codemirror_mode": {
    "name": "ipython",
    "version": 3
   },
   "file_extension": ".py",
   "mimetype": "text/x-python",
   "name": "python",
   "nbconvert_exporter": "python",
   "pygments_lexer": "ipython3",
   "version": "3.7.0"
  }
 },
 "nbformat": 4,
 "nbformat_minor": 2
}
