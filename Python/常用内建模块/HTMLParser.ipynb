{
 "cells": [
  {
   "cell_type": "markdown",
   "metadata": {},
   "source": [
    "## HTMLParser"
   ]
  },
  {
   "cell_type": "markdown",
   "metadata": {},
   "source": [
    "解析HTML"
   ]
  },
  {
   "cell_type": "markdown",
   "metadata": {},
   "source": [
    "HTML是XML的子集，使用HTMLParser解析。"
   ]
  },
  {
   "cell_type": "code",
   "execution_count": 3,
   "metadata": {},
   "outputs": [
    {
     "name": "stdout",
     "output_type": "stream",
     "text": [
      "<html>\n",
      "\n",
      "\n",
      "<head>\n",
      "</head>\n",
      "\n",
      "\n",
      "<body>\n",
      "\n",
      "\n",
      "<!--  test html parser  -->\n",
      "\n",
      "    \n",
      "<p>\n",
      "Some \n",
      "<a>\n",
      "html\n",
      "</a>\n",
      " HTML tutorial...\n",
      "<br>\n",
      "END\n",
      "</p>\n",
      "\n",
      "\n",
      "</body>\n",
      "</html>\n"
     ]
    }
   ],
   "source": [
    "from html.parser import HTMLParser\n",
    "from html.entities import name2codepoint\n",
    "\n",
    "class MyHTMLParser(HTMLParser):\n",
    "    \n",
    "    def handle_starttag(self,tag,attrs):\n",
    "        print('<%s>' % tag)\n",
    "    \n",
    "    def handle_endtag(self,tag):\n",
    "        print('</%s>' % tag)\n",
    "        \n",
    "    def handle_startendtag(self,tag,attrs):\n",
    "        print('<%s/>' % tag)\n",
    "    def handle_data(self, data):\n",
    "        print(data)\n",
    "    def handle_comment(self, data):\n",
    "        print('<!--', data, '-->')\n",
    "    def handle_entityref(self, name):\n",
    "        print('&%s;' % name)\n",
    "    def handle_charref(self, name):\n",
    "        print('&#%s;' % name)\n",
    "parser = MyHTMLParser()\n",
    "parser.feed('''<html>\n",
    "<head></head>\n",
    "<body>\n",
    "<!-- test html parser -->\n",
    "    <p>Some <a href=\\\"#\\\">html</a> HTML&nbsp;tutorial...<br>END</p>\n",
    "</body></html>''')"
   ]
  },
  {
   "cell_type": "markdown",
   "metadata": {},
   "source": [
    "feed()方法可以多次调用。\n",
    "特殊字符有两种，一种是英文表示的&nbsp,一种是数字表示的&#1234；。都可以通过Parser解析出来。"
   ]
  }
 ],
 "metadata": {
  "kernelspec": {
   "display_name": "Python 3",
   "language": "python",
   "name": "python3"
  },
  "language_info": {
   "codemirror_mode": {
    "name": "ipython",
    "version": 3
   },
   "file_extension": ".py",
   "mimetype": "text/x-python",
   "name": "python",
   "nbconvert_exporter": "python",
   "pygments_lexer": "ipython3",
   "version": "3.7.0"
  }
 },
 "nbformat": 4,
 "nbformat_minor": 2
}
