{
 "cells": [
  {
   "cell_type": "markdown",
   "metadata": {},
   "source": [
    "## hashlib"
   ]
  },
  {
   "cell_type": "markdown",
   "metadata": {},
   "source": [
    "摘要算法，又称哈希算法、散列算法。通过一个函数，把任意长度的数据转换为一个长度固定的数据串（十六进制表示）。"
   ]
  },
  {
   "cell_type": "markdown",
   "metadata": {},
   "source": [
    "举个例子，你写了一篇文章，内容是一个字符串'how to use python hashlib - by Michael'，并附上这篇文章的摘要是\n",
    "'2d73d4f15c0db7f5ecb321b6a65e5d6d'。如果有人篡改了你的文章，并发表\n",
    "为'how to use python hashlib - by Bob'，你可以一下子指出 Bob 篡改了\n",
    "你的文章，因为根据'how to use python hashlib - by Bob'计算出的摘要\n",
    "不同于原始文章的摘要。"
   ]
  },
  {
   "cell_type": "markdown",
   "metadata": {},
   "source": [
    "* 摘要算法是通过摘要函数f()对任意长度的数据data计算出固定长度的摘要digest，目的就是为了发现原始数据是否被人篡改过。"
   ]
  },
  {
   "cell_type": "markdown",
   "metadata": {},
   "source": [
    "* 摘要算法---MD5"
   ]
  },
  {
   "cell_type": "markdown",
   "metadata": {},
   "source": [
    "计算出一个字符串的MD5值。"
   ]
  },
  {
   "cell_type": "code",
   "execution_count": 10,
   "metadata": {},
   "outputs": [
    {
     "name": "stdout",
     "output_type": "stream",
     "text": [
      "d26a53750bc40b38b65a520292f69306\n"
     ]
    }
   ],
   "source": [
    "import hashlib\n",
    "md5 = hashlib.md5()\n",
    "md5.update('how to use md5 in python hashlib?'.encode('utf-8'))\n",
    "print(md5.hexdigest())"
   ]
  },
  {
   "cell_type": "markdown",
   "metadata": {},
   "source": [
    "如果数据量很大，可以分块多次调用update()。"
   ]
  },
  {
   "cell_type": "code",
   "execution_count": 13,
   "metadata": {},
   "outputs": [
    {
     "name": "stdout",
     "output_type": "stream",
     "text": [
      "d26a53750bc40b38b65a520292f69306\n"
     ]
    }
   ],
   "source": [
    "md5 = hashlib.md5()\n",
    "md5.update('how to use md5 in '.encode('utf-8'))\n",
    "md5.update('python hashlib?'.encode('utf-8'))\n",
    "print(md5.hexdigest())#128bit字节，32位16进制表示"
   ]
  },
  {
   "cell_type": "markdown",
   "metadata": {},
   "source": [
    "摘要算法---SHA1"
   ]
  },
  {
   "cell_type": "code",
   "execution_count": 17,
   "metadata": {},
   "outputs": [
    {
     "name": "stdout",
     "output_type": "stream",
     "text": [
      "2c76b57293ce30acef38d98f6046927161b46a44\n"
     ]
    }
   ],
   "source": [
    "import hashlib\n",
    "sha1 = hashlib.sha1()\n",
    "sha1.update('how to use sha1 in '.encode('utf-8'))\n",
    "sha1.update('python hashlib?'.encode('utf-8'))\n",
    "print(sha1.hexdigest())#160bit字节，40位16进制表示"
   ]
  },
  {
   "cell_type": "markdown",
   "metadata": {},
   "source": [
    "因为任何摘要算法都是把无限多的数据集合映射到一个有限\n",
    "的集合中。这种情况称为碰撞。"
   ]
  }
 ],
 "metadata": {
  "kernelspec": {
   "display_name": "Python 3",
   "language": "python",
   "name": "python3"
  },
  "language_info": {
   "codemirror_mode": {
    "name": "ipython",
    "version": 3
   },
   "file_extension": ".py",
   "mimetype": "text/x-python",
   "name": "python",
   "nbconvert_exporter": "python",
   "pygments_lexer": "ipython3",
   "version": "3.7.0"
  }
 },
 "nbformat": 4,
 "nbformat_minor": 2
}
