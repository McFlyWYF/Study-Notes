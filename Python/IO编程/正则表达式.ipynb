{
 "cells": [
  {
   "cell_type": "markdown",
   "metadata": {},
   "source": [
    "## 正则表达式"
   ]
  },
  {
   "cell_type": "markdown",
   "metadata": {},
   "source": [
    "* 正则表达式是一种用来匹配字符串的武器，设计思想是用一种描述性的语言来给字符串定义一个规则，凡是符合规则的字符串，就认为是匹配了。"
   ]
  },
  {
   "cell_type": "markdown",
   "metadata": {},
   "source": [
    "判断一个字符串是否是合法的Email的方法是：\n",
    "* 1.创建一个匹配Email的正则表达式；\n",
    "* 2.用该正则表达式去匹配用户的输入来判断是否合法。"
   ]
  },
  {
   "cell_type": "markdown",
   "metadata": {},
   "source": [
    "在正则表达式中，如果直接给出字符，就是精确匹配。用`\\d`可以匹配一个数字，`\\w`可以匹配一个字母或数字。"
   ]
  },
  {
   "cell_type": "markdown",
   "metadata": {},
   "source": [
    "* '00\\d'可以匹配'007'，但无法匹配'00A';\n",
    "* '\\d\\d\\d'可以匹配'010';\n",
    "* '\\w\\w\\d'可以匹配'py3';"
   ]
  },
  {
   "cell_type": "markdown",
   "metadata": {},
   "source": [
    "`.`可以匹配任意字符。"
   ]
  },
  {
   "cell_type": "markdown",
   "metadata": {},
   "source": [
    "* `'py.'`可以匹配'pyc'、'pyo'、'py！'"
   ]
  },
  {
   "cell_type": "markdown",
   "metadata": {},
   "source": [
    "要匹配变长的字符，用`*`表示任意个字符（包括0个），用`+`表示至少一个字符，用`?`表示0个或1个字符，用{n}表示n个字符，用{n,m}表示n-m个字符：看一下：`\\d{3}\\s+\\d{3,8}`。"
   ]
  },
  {
   "cell_type": "markdown",
   "metadata": {},
   "source": [
    "* \\d{3}表示匹配3个数字，例如'010';\n",
    "* \\s可以匹配一个空格（包括Tab等空白符），\\s+表示至少有一个空格；例如' ',' '；\n",
    "* \\d{3,8}表示3-8个数字，例如'1234567'；"
   ]
  },
  {
   "cell_type": "markdown",
   "metadata": {},
   "source": [
    "#### 匹配'010-12345'"
   ]
  },
  {
   "cell_type": "markdown",
   "metadata": {},
   "source": [
    "`\\d{3}\\-\\d{3,8}`"
   ]
  },
  {
   "cell_type": "markdown",
   "metadata": {},
   "source": [
    "### 进阶"
   ]
  },
  {
   "cell_type": "markdown",
   "metadata": {},
   "source": [
    "用`[]`表示范围。"
   ]
  },
  {
   "cell_type": "markdown",
   "metadata": {},
   "source": [
    "* `[0-9a-zA-Z\\_]`可以匹配一个数字、字母或者下划线；\n",
    "* `[0-9a-zA-Z\\_]+`可以匹配至少由一个数字、字母或者下划线组成的字符串，比如'a100','0_Z','Py3000'；\n",
    "* `[a-zA-Z\\_][0-9a-zA-Z\\_]*`可以匹配由字母或下划线开头，后接任\n",
    "意个由一个数字、字母或者下划线组成的字符串，也就是 Python\n",
    "合法的变量；\n",
    " `[a-zA-Z\\_][0-9a-zA-Z\\_]{0, 19}`更精确地限制了变量的长度是1-20\n",
    "个字符（前面 1 个字符+后面最多 19 个字符。\n",
    "* `A|B` 可以匹配 A 或 B，所以[P|p]ython 可以匹配'Python'或者'python'。\n",
    "* `^`表示行的开头，^\\d 表示必须以数字开头。\n",
    "* `$`表示行的结束，\\d$表示必须以数字结束。"
   ]
  },
  {
   "cell_type": "markdown",
   "metadata": {},
   "source": [
    "### re模块"
   ]
  },
  {
   "cell_type": "code",
   "execution_count": 1,
   "metadata": {},
   "outputs": [
    {
     "data": {
      "text/plain": [
       "'ABC\\\\-001'"
      ]
     },
     "execution_count": 1,
     "metadata": {},
     "output_type": "execute_result"
    }
   ],
   "source": [
    "s = 'ABC\\\\-001'#python的字符串\n",
    "#对应得正则表达式字符串变成：\n",
    "'ABC\\-001'"
   ]
  },
  {
   "cell_type": "code",
   "execution_count": 2,
   "metadata": {},
   "outputs": [
    {
     "data": {
      "text/plain": [
       "'ABC\\\\-001'"
      ]
     },
     "execution_count": 2,
     "metadata": {},
     "output_type": "execute_result"
    }
   ],
   "source": [
    "#使用r前缀，不考虑转义了\n",
    "s = r'ABC\\-001'\n",
    "'ABC\\-001'"
   ]
  },
  {
   "cell_type": "code",
   "execution_count": 3,
   "metadata": {},
   "outputs": [
    {
     "data": {
      "text/plain": [
       "<re.Match object; span=(0, 9), match='010-12345'>"
      ]
     },
     "execution_count": 3,
     "metadata": {},
     "output_type": "execute_result"
    }
   ],
   "source": [
    "import re\n",
    "re.match(r'^\\d{3}\\-\\d{3,8}$','010-12345')#匹配成功，返回Match对象"
   ]
  },
  {
   "cell_type": "code",
   "execution_count": 7,
   "metadata": {},
   "outputs": [],
   "source": [
    "re.match(r'^\\d{3}\\-\\d{3,8}$','010 12345')#匹配失败，返回None"
   ]
  },
  {
   "cell_type": "code",
   "execution_count": 11,
   "metadata": {},
   "outputs": [
    {
     "name": "stdout",
     "output_type": "stream",
     "text": [
      "failed\n"
     ]
    }
   ],
   "source": [
    "#常见的判断方法\n",
    "test = '用户输入的字符串'\n",
    "if re.match(r'正则表达式',test):\n",
    "    print('ok')\n",
    "else:\n",
    "    print('failed')"
   ]
  },
  {
   "cell_type": "markdown",
   "metadata": {},
   "source": [
    "### 切分字符串"
   ]
  },
  {
   "cell_type": "code",
   "execution_count": 16,
   "metadata": {},
   "outputs": [
    {
     "data": {
      "text/plain": [
       "['a', 'b', '', '', 'c']"
      ]
     },
     "execution_count": 16,
     "metadata": {},
     "output_type": "execute_result"
    }
   ],
   "source": [
    "'a b   c'.split(' ')#无法识别连续的空格"
   ]
  },
  {
   "cell_type": "code",
   "execution_count": 17,
   "metadata": {},
   "outputs": [
    {
     "data": {
      "text/plain": [
       "['a', 'b', 'c', 'd']"
      ]
     },
     "execution_count": 17,
     "metadata": {},
     "output_type": "execute_result"
    }
   ],
   "source": [
    "#使用正则表达式\n",
    "re.split(r'[\\s\\,]+','a,b, c   d')"
   ]
  },
  {
   "cell_type": "code",
   "execution_count": 19,
   "metadata": {},
   "outputs": [
    {
     "data": {
      "text/plain": [
       "['a', 'b', 'c', 'd']"
      ]
     },
     "execution_count": 19,
     "metadata": {},
     "output_type": "execute_result"
    }
   ],
   "source": [
    "re.split(r'[\\s\\,\\;]+','a,b;; c  d')"
   ]
  },
  {
   "cell_type": "markdown",
   "metadata": {},
   "source": [
    "### 分组"
   ]
  },
  {
   "cell_type": "markdown",
   "metadata": {},
   "source": [
    "提取子串，用()表示的就是要提取的分组。"
   ]
  },
  {
   "cell_type": "code",
   "execution_count": 21,
   "metadata": {},
   "outputs": [
    {
     "data": {
      "text/plain": [
       "<re.Match object; span=(0, 9), match='010-12345'>"
      ]
     },
     "execution_count": 21,
     "metadata": {},
     "output_type": "execute_result"
    }
   ],
   "source": [
    "m = re.match(r'^(\\d{3})-(\\d{3,8})$','010-12345')\n",
    "m"
   ]
  },
  {
   "cell_type": "code",
   "execution_count": 22,
   "metadata": {},
   "outputs": [
    {
     "data": {
      "text/plain": [
       "'010-12345'"
      ]
     },
     "execution_count": 22,
     "metadata": {},
     "output_type": "execute_result"
    }
   ],
   "source": [
    "m.group(0)"
   ]
  },
  {
   "cell_type": "code",
   "execution_count": 23,
   "metadata": {},
   "outputs": [
    {
     "data": {
      "text/plain": [
       "'010'"
      ]
     },
     "execution_count": 23,
     "metadata": {},
     "output_type": "execute_result"
    }
   ],
   "source": [
    "m.group(1)"
   ]
  },
  {
   "cell_type": "code",
   "execution_count": 24,
   "metadata": {},
   "outputs": [
    {
     "data": {
      "text/plain": [
       "'12345'"
      ]
     },
     "execution_count": 24,
     "metadata": {},
     "output_type": "execute_result"
    }
   ],
   "source": [
    "m.group(2)"
   ]
  },
  {
   "cell_type": "code",
   "execution_count": 26,
   "metadata": {},
   "outputs": [
    {
     "data": {
      "text/plain": [
       "('19', '05', '30')"
      ]
     },
     "execution_count": 26,
     "metadata": {},
     "output_type": "execute_result"
    }
   ],
   "source": [
    "t = '19:05:30'\n",
    "m = re.match(r'^(0[0-9]|1[0-9]|2[0-3]|[0-9])\\:(0[0-9]|1[0-9]|2[0-9]|3[0-9]|4[0-9]|5[0-9]|[0-9])\\:(0[0-9]|1[0-9]|2[0-9]|3[0-9]|4[0-9]|5[0-9]|[0-9])$', t)\n",
    "m.groups()"
   ]
  },
  {
   "cell_type": "markdown",
   "metadata": {},
   "source": [
    "### 贪婪匹配"
   ]
  },
  {
   "cell_type": "markdown",
   "metadata": {},
   "source": [
    "正则匹配默认是贪婪匹配，尽可能匹配多的字符。"
   ]
  },
  {
   "cell_type": "markdown",
   "metadata": {},
   "source": [
    "匹配后面的0。"
   ]
  },
  {
   "cell_type": "code",
   "execution_count": 29,
   "metadata": {},
   "outputs": [
    {
     "data": {
      "text/plain": [
       "('102300', '')"
      ]
     },
     "execution_count": 29,
     "metadata": {},
     "output_type": "execute_result"
    }
   ],
   "source": [
    "re.match(r'^(\\d+)(0*)$','102300').groups()#\\d+是贪婪匹配"
   ]
  },
  {
   "cell_type": "code",
   "execution_count": 31,
   "metadata": {},
   "outputs": [
    {
     "data": {
      "text/plain": [
       "('1023', '00')"
      ]
     },
     "execution_count": 31,
     "metadata": {},
     "output_type": "execute_result"
    }
   ],
   "source": [
    "#加个？\n",
    "re.match(r'^(\\d+?)(0*)$','102300').groups()"
   ]
  },
  {
   "cell_type": "markdown",
   "metadata": {},
   "source": [
    "### 编译"
   ]
  },
  {
   "cell_type": "markdown",
   "metadata": {},
   "source": [
    "当我们在 Python 中使用正则表达式时，re 模块内部会干两件事情：\n",
    "1. 编译正则表达式，如果正则表达式的字符串本身不合法，会报错；\n",
    "2. 用编译后的正则表达式去匹配字符串"
   ]
  },
  {
   "cell_type": "code",
   "execution_count": 34,
   "metadata": {},
   "outputs": [
    {
     "data": {
      "text/plain": [
       "('010', '12345')"
      ]
     },
     "execution_count": 34,
     "metadata": {},
     "output_type": "execute_result"
    }
   ],
   "source": [
    "import re\n",
    "#预编译\n",
    "re_telephone = re.compile(r'^(\\d{3})-(\\d{3,8})$')\n",
    "#使用\n",
    "re_telephone.match('010-12345').groups()"
   ]
  },
  {
   "cell_type": "code",
   "execution_count": 35,
   "metadata": {},
   "outputs": [
    {
     "data": {
      "text/plain": [
       "('010', '8086')"
      ]
     },
     "execution_count": 35,
     "metadata": {},
     "output_type": "execute_result"
    }
   ],
   "source": [
    "#不再需要编译\n",
    "re_telephone.match('010-8086').groups()"
   ]
  }
 ],
 "metadata": {
  "kernelspec": {
   "display_name": "Python 3",
   "language": "python",
   "name": "python3"
  },
  "language_info": {
   "codemirror_mode": {
    "name": "ipython",
    "version": 3
   },
   "file_extension": ".py",
   "mimetype": "text/x-python",
   "name": "python",
   "nbconvert_exporter": "python",
   "pygments_lexer": "ipython3",
   "version": "3.7.0"
  }
 },
 "nbformat": 4,
 "nbformat_minor": 2
}
