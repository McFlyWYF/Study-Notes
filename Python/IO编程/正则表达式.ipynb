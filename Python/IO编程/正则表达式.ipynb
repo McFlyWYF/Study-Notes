{
 "cells": [
  {
   "cell_type": "markdown",
   "metadata": {},
   "source": [
    "## 正则表达式"
   ]
  },
  {
   "cell_type": "markdown",
   "metadata": {},
   "source": [
    "* 正则表达式是一种用来匹配字符串的武器，设计思想是用一种描述性的语言来给字符串定义一个规则，凡是符合规则的字符串，就认为是匹配了。"
   ]
  },
  {
   "cell_type": "markdown",
   "metadata": {},
   "source": [
    "判断一个字符串是否是合法的Email的方法是：\n",
    "* 1.创建一个匹配Email的正则表达式；\n",
    "* 2.用该正则表达式去匹配用户的输入来判断是否合法。"
   ]
  },
  {
   "cell_type": "markdown",
   "metadata": {},
   "source": [
    "在正则表达式中，如果直接给出字符，就是精确匹配。用`\\d`可以匹配一个数字，`\\w`可以匹配一个字母或数字。"
   ]
  },
  {
   "cell_type": "markdown",
   "metadata": {},
   "source": [
    "* '00\\d'可以匹配'007'，但无法匹配'00A';\n",
    "* '\\d\\d\\d'可以匹配'010';\n",
    "* '\\w\\w\\d'可以匹配'py3';"
   ]
  },
  {
   "cell_type": "markdown",
   "metadata": {},
   "source": [
    "`.`可以匹配任意字符。"
   ]
  },
  {
   "cell_type": "markdown",
   "metadata": {},
   "source": [
    "* `'py.'`可以匹配'pyc'、'pyo'、'py！'"
   ]
  },
  {
   "cell_type": "markdown",
   "metadata": {},
   "source": [
    "要匹配变长的字符，用`*`表示任意个字符（包括0个），用`+`表示至少一个字符，用`?`表示0个或1个字符，用{n}表示n个字符，用{n,m}表示n-m个字符：看一下：`\\d{3}\\s+\\d{3,8}`。"
   ]
  },
  {
   "cell_type": "markdown",
   "metadata": {},
   "source": [
    "* \\d{3}表示匹配3个数字，例如'010';\n",
    "* \\s可以匹配一个空格（包括Tab等空白符），\\s+表示至少有一个空格；例如' ',' '；\n",
    "* \\d{3,8}表示3-8个数字，例如'1234567'；"
   ]
  },
  {
   "cell_type": "markdown",
   "metadata": {},
   "source": [
    "#### 匹配'010-12345'"
   ]
  },
  {
   "cell_type": "markdown",
   "metadata": {},
   "source": [
    "`\\d{3}\\-\\d{3,8}`"
   ]
  },
  {
   "cell_type": "markdown",
   "metadata": {},
   "source": [
    "### 进阶"
   ]
  },
  {
   "cell_type": "markdown",
   "metadata": {},
   "source": [
    "用`[]`表示范围。"
   ]
  },
  {
   "cell_type": "markdown",
   "metadata": {},
   "source": [
    "* `[0-9a-zA-Z\\_]`可以匹配一个数字、字母或者下划线；\n",
    "* `[0-9a-zA-Z\\_]+`可以匹配至少由一个数字、字母或者下划线组成的字符串，比如'a100','0_Z','Py3000'；\n",
    "* `[a-zA-Z\\_][0-9a-zA-Z\\_]*`可以匹配由字母或下划线开头，后接任\n",
    "意个由一个数字、字母或者下划线组成的字符串，也就是 Python\n",
    "合法的变量；\n",
    " `[a-zA-Z\\_][0-9a-zA-Z\\_]{0, 19}`更精确地限制了变量的长度是1-20\n",
    "个字符（前面 1 个字符+后面最多 19 个字符。\n",
    "* `A|B` 可以匹配 A 或 B，所以[P|p]ython 可以匹配'Python'或者'python'。\n",
    "* `^`表示行的开头，^\\d 表示必须以数字开头。\n",
    "* `$`表示行的结束，\\d$表示必须以数字结束。"
   ]
  }
 ],
 "metadata": {
  "kernelspec": {
   "display_name": "Python 3",
   "language": "python",
   "name": "python3"
  },
  "language_info": {
   "codemirror_mode": {
    "name": "ipython",
    "version": 3
   },
   "file_extension": ".py",
   "mimetype": "text/x-python",
   "name": "python",
   "nbconvert_exporter": "python",
   "pygments_lexer": "ipython3",
   "version": "3.7.0"
  }
 },
 "nbformat": 4,
 "nbformat_minor": 2
}
