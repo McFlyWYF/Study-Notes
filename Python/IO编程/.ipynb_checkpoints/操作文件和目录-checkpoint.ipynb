{
 "cells": [
  {
   "cell_type": "markdown",
   "metadata": {},
   "source": [
    "## 操作文件和目录"
   ]
  },
  {
   "cell_type": "code",
   "execution_count": 1,
   "metadata": {},
   "outputs": [
    {
     "data": {
      "text/plain": [
       "'nt'"
      ]
     },
     "execution_count": 1,
     "metadata": {},
     "output_type": "execute_result"
    }
   ],
   "source": [
    "import os\n",
    "os.name#操作系统类型"
   ]
  },
  {
   "cell_type": "markdown",
   "metadata": {},
   "source": [
    "### 环境变量"
   ]
  },
  {
   "cell_type": "code",
   "execution_count": 7,
   "metadata": {},
   "outputs": [
    {
     "data": {
      "text/plain": [
       "environ({'ALLUSERSPROFILE': 'C:\\\\ProgramData', 'APPDATA': 'C:\\\\Users\\\\16500\\\\AppData\\\\Roaming', 'CATALINA_BASE': 'D:\\\\apache-tomcat-9.0.12', 'CATALINA_HOME': 'D:\\\\apache-tomcat-9.0.12', 'CLASSPATH': '.;C:\\\\Program Files\\\\Java\\\\jdk1.8.0_161\\\\lib\\\\dt.jar;C:\\\\Program Files\\\\Java\\\\jdk1.8.0_161\\\\lib\\\\tools.jar;', 'COMMONPROGRAMFILES': 'C:\\\\Program Files\\\\Common Files', 'COMMONPROGRAMFILES(X86)': 'C:\\\\Program Files (x86)\\\\Common Files', 'COMMONPROGRAMW6432': 'C:\\\\Program Files\\\\Common Files', 'COMPUTERNAME': 'DESKTOP-BA4QTP8', 'COMSPEC': 'C:\\\\Windows\\\\system32\\\\cmd.exe', 'CONDA_DEFAULT_ENV': 'python3.6', 'CONDA_EXE': 'D:\\\\Anaconda\\\\Scripts\\\\conda.exe', 'CONDA_PREFIX': 'D:\\\\Anaconda\\\\envs\\\\python3.6', 'CONDA_PREFIX_1': 'D:\\\\Anaconda', 'CONDA_PROMPT_MODIFIER': '(python3.6) ', 'CONDA_PYTHON_EXE': 'D:\\\\Anaconda\\\\python.exe', 'CONDA_SHLVL': '2', 'DRIVERDATA': 'C:\\\\Windows\\\\System32\\\\Drivers\\\\DriverData', 'FPS_BROWSER_APP_PROFILE_STRING': 'Internet Explorer', 'FPS_BROWSER_USER_PROFILE_STRING': 'Default', 'HOMEDRIVE': 'C:', 'HOMEPATH': '\\\\Users\\\\16500', 'JAVA_HOME': 'C:\\\\Program Files\\\\Java\\\\jdk1.8.0_161', 'LOCALAPPDATA': 'C:\\\\Users\\\\16500\\\\AppData\\\\Local', 'LOGONSERVER': '\\\\\\\\DESKTOP-BA4QTP8', 'MYSQL_HOME': 'D:\\\\mysql\\\\mysql-5.7.24-winx64', 'NUMBER_OF_PROCESSORS': '4', 'ONEDRIVE': 'C:\\\\Users\\\\16500\\\\OneDrive', 'OS': 'Windows_NT', 'PATH': 'D:\\\\Anaconda\\\\envs\\\\python3.6;D:\\\\Anaconda\\\\envs\\\\python3.6\\\\Library\\\\mingw-w64\\\\bin;D:\\\\Anaconda\\\\envs\\\\python3.6\\\\Library\\\\usr\\\\bin;D:\\\\Anaconda\\\\envs\\\\python3.6\\\\Library\\\\bin;D:\\\\Anaconda\\\\envs\\\\python3.6\\\\Scripts;D:\\\\Anaconda\\\\envs\\\\python3.6\\\\bin;D:\\\\Anaconda;D:\\\\Anaconda\\\\Library\\\\mingw-w64\\\\bin;D:\\\\Anaconda\\\\Library\\\\usr\\\\bin;D:\\\\Anaconda\\\\Library\\\\bin;D:\\\\Anaconda\\\\Scripts;D:\\\\Anaconda\\\\bin;C:\\\\ProgramData\\\\Oracle\\\\Java\\\\javapath;C:\\\\Windows\\\\system32;C:\\\\Windows;C:\\\\Windows\\\\System32\\\\Wbem;C:\\\\Windows\\\\System32\\\\WindowsPowerShell\\\\v1.0\\\\;C:\\\\Windows\\\\System32\\\\OpenSSH\\\\;\"C:\\\\Program Files\\\\Java\\\\jdk1.8.0_161\\\\bin;C:\\\\Program Files\\\\Java\\\\jdk1.8.0_161\\\\jre\\\\bin;\";C:\\\\Program Files\\\\Java\\\\jdk1.8.0_161\\\\bin;C:\\\\Program Files\\\\Microsoft VS Code\\\\bin;D:\\\\Git\\\\Git\\\\cmd;\"D:\\\\mysql\\\\mysql-5.7.24-winx64\\\\bin;\";C:\\\\Program Files\\\\Microsoft SQL Server\\\\Client SDK\\\\ODBC\\\\130\\\\Tools\\\\Binn\\\\;C:\\\\Program Files (x86)\\\\Microsoft SQL Server\\\\140\\\\Tools\\\\Binn\\\\;C:\\\\Program Files\\\\Microsoft SQL Server\\\\140\\\\Tools\\\\Binn\\\\;C:\\\\Program Files\\\\Microsoft SQL Server\\\\140\\\\DTS\\\\Binn\\\\;C:\\\\Program Files (x86)\\\\Microsoft SQL Server\\\\Client SDK\\\\ODBC\\\\130\\\\Tools\\\\Binn\\\\;C:\\\\Program Files (x86)\\\\Microsoft SQL Server\\\\140\\\\DTS\\\\Binn\\\\;C:\\\\Program Files (x86)\\\\Microsoft SQL Server\\\\140\\\\Tools\\\\Binn\\\\ManagementStudio\\\\;C:\\\\Program Files\\\\nodejs\\\\;\"D:\\\\apache-tomcat-9.0.12\\\\lib;D:\\\\apache-tomcat-9.0.12\\\\bin\";C:\\\\Users\\\\16500\\\\AppData\\\\Local\\\\Microsoft\\\\WindowsApps;C:\\\\Users\\\\16500\\\\AppData\\\\Roaming\\\\npm', 'PATHEXT': '.COM;.EXE;.BAT;.CMD;.VBS;.VBE;.JS;.JSE;.WSF;.WSH;.MSC', 'PROCESSOR_ARCHITECTURE': 'AMD64', 'PROCESSOR_IDENTIFIER': 'AMD64 Family 21 Model 101 Stepping 1, AuthenticAMD', 'PROCESSOR_LEVEL': '21', 'PROCESSOR_REVISION': '6501', 'PROGRAMDATA': 'C:\\\\ProgramData', 'PROGRAMFILES': 'C:\\\\Program Files', 'PROGRAMFILES(X86)': 'C:\\\\Program Files (x86)', 'PROGRAMW6432': 'C:\\\\Program Files', 'PROMPT': '(python3.6) $P$G', 'PSMODULEPATH': 'C:\\\\Program Files\\\\WindowsPowerShell\\\\Modules;C:\\\\Windows\\\\system32\\\\WindowsPowerShell\\\\v1.0\\\\Modules;C:\\\\Program Files (x86)\\\\Microsoft SQL Server\\\\140\\\\Tools\\\\PowerShell\\\\Modules\\\\', 'PUBLIC': 'C:\\\\Users\\\\Public', 'PYTHONIOENCODING': '936', 'SESSIONNAME': 'Console', 'SYSTEMDRIVE': 'C:', 'SYSTEMROOT': 'C:\\\\Windows', 'TEMP': 'C:\\\\Users\\\\16500\\\\AppData\\\\Local\\\\Temp', 'TMP': 'C:\\\\Users\\\\16500\\\\AppData\\\\Local\\\\Temp', 'USERDOMAIN': 'DESKTOP-BA4QTP8', 'USERDOMAIN_ROAMINGPROFILE': 'DESKTOP-BA4QTP8', 'USERNAME': '16500', 'USERPROFILE': 'C:\\\\Users\\\\16500', 'WINDIR': 'C:\\\\Windows', 'JPY_INTERRUPT_EVENT': '2776', 'IPY_INTERRUPT_EVENT': '2776', 'JPY_PARENT_PID': '2784', 'TERM': 'xterm-color', 'CLICOLOR': '1', 'PAGER': 'cat', 'GIT_PAGER': 'cat', 'MPLBACKEND': 'module://ipykernel.pylab.backend_inline'})"
      ]
     },
     "execution_count": 7,
     "metadata": {},
     "output_type": "execute_result"
    }
   ],
   "source": [
    "os.environ"
   ]
  },
  {
   "cell_type": "code",
   "execution_count": 9,
   "metadata": {},
   "outputs": [
    {
     "data": {
      "text/plain": [
       "'C:\\\\Program Files\\\\Java\\\\jdk1.8.0_161'"
      ]
     },
     "execution_count": 9,
     "metadata": {},
     "output_type": "execute_result"
    }
   ],
   "source": [
    "#获取某个环境变量的值\n",
    "os.environ.get('JAVA_HOME')"
   ]
  },
  {
   "cell_type": "markdown",
   "metadata": {},
   "source": [
    "### 操作文件和目录"
   ]
  },
  {
   "cell_type": "markdown",
   "metadata": {},
   "source": [
    "查看当前目录的绝对路径"
   ]
  },
  {
   "cell_type": "code",
   "execution_count": 10,
   "metadata": {},
   "outputs": [
    {
     "data": {
      "text/plain": [
       "'F:\\\\Study-Notes\\\\Python\\\\IO编程'"
      ]
     },
     "execution_count": 10,
     "metadata": {},
     "output_type": "execute_result"
    }
   ],
   "source": [
    "os.path.abspath('.')"
   ]
  },
  {
   "cell_type": "markdown",
   "metadata": {},
   "source": [
    "在某个目录下创建一个新目录，首先把新目录的完整路径表示"
   ]
  },
  {
   "cell_type": "code",
   "execution_count": 18,
   "metadata": {},
   "outputs": [
    {
     "data": {
      "text/plain": [
       "'F:\\\\Study-Notes\\\\Python\\\\testdir'"
      ]
     },
     "execution_count": 18,
     "metadata": {},
     "output_type": "execute_result"
    }
   ],
   "source": [
    "os.path.join('F:\\\\Study-Notes\\\\Python','testdir')"
   ]
  },
  {
   "cell_type": "code",
   "execution_count": 22,
   "metadata": {},
   "outputs": [
    {
     "ename": "FileExistsError",
     "evalue": "[WinError 183] 当文件已存在时，无法创建该文件。: 'F:\\\\Study-Notes\\\\Python\\\\testdir'",
     "output_type": "error",
     "traceback": [
      "\u001b[1;31m---------------------------------------------------------------------------\u001b[0m",
      "\u001b[1;31mFileExistsError\u001b[0m                           Traceback (most recent call last)",
      "\u001b[1;32m<ipython-input-22-b4e6df06c472>\u001b[0m in \u001b[0;36m<module>\u001b[1;34m()\u001b[0m\n\u001b[1;32m----> 1\u001b[1;33m \u001b[0mos\u001b[0m\u001b[1;33m.\u001b[0m\u001b[0mmkdir\u001b[0m\u001b[1;33m(\u001b[0m\u001b[1;34m'F:\\\\Study-Notes\\\\Python\\\\testdir'\u001b[0m\u001b[1;33m)\u001b[0m\u001b[1;33m\u001b[0m\u001b[0m\n\u001b[0m",
      "\u001b[1;31mFileExistsError\u001b[0m: [WinError 183] 当文件已存在时，无法创建该文件。: 'F:\\\\Study-Notes\\\\Python\\\\testdir'"
     ]
    }
   ],
   "source": [
    "os.mkdir('F:\\\\Study-Notes\\\\Python\\\\testdir')"
   ]
  },
  {
   "cell_type": "markdown",
   "metadata": {},
   "source": [
    "删掉一个目录"
   ]
  },
  {
   "cell_type": "code",
   "execution_count": 23,
   "metadata": {},
   "outputs": [],
   "source": [
    "os.rmdir('F:\\\\Study-Notes\\\\Python\\\\testdir')"
   ]
  },
  {
   "cell_type": "markdown",
   "metadata": {},
   "source": [
    "合并两个路径时，不要直接拼接，通过os.path.join()函数，Windows会返回part-1\\part-2这样的字符串。"
   ]
  },
  {
   "cell_type": "code",
   "execution_count": 21,
   "metadata": {},
   "outputs": [
    {
     "data": {
      "text/plain": [
       "'F:\\\\Study-Notes\\\\Python\\\\IO编程\\\\test.txt'"
      ]
     },
     "execution_count": 21,
     "metadata": {},
     "output_type": "execute_result"
    }
   ],
   "source": [
    "os.path.join('F:\\Study-Notes\\Python\\testdir','F:\\\\Study-Notes\\\\Python\\\\IO编程\\\\test.txt')"
   ]
  },
  {
   "cell_type": "markdown",
   "metadata": {},
   "source": [
    "拆分路径时，通过os.path.split()函数。"
   ]
  },
  {
   "cell_type": "code",
   "execution_count": 15,
   "metadata": {},
   "outputs": [
    {
     "data": {
      "text/plain": [
       "('F:\\\\Study-Notes\\\\Python\\\\IO编程', 'test.txt')"
      ]
     },
     "execution_count": 15,
     "metadata": {},
     "output_type": "execute_result"
    }
   ],
   "source": [
    "os.path.split('F:\\\\Study-Notes\\\\Python\\\\IO编程\\\\test.txt')"
   ]
  },
  {
   "cell_type": "code",
   "execution_count": 17,
   "metadata": {},
   "outputs": [
    {
     "data": {
      "text/plain": [
       "('F:\\\\Study-Notes\\\\Python\\\\IO编程\\\\test', '.txt')"
      ]
     },
     "execution_count": 17,
     "metadata": {},
     "output_type": "execute_result"
    }
   ],
   "source": [
    "os.path.splitext('F:\\\\Study-Notes\\\\Python\\\\IO编程\\\\test.txt')#可以得到文件扩展名。"
   ]
  },
  {
   "cell_type": "markdown",
   "metadata": {},
   "source": [
    "对文件重命名"
   ]
  },
  {
   "cell_type": "code",
   "execution_count": 24,
   "metadata": {},
   "outputs": [],
   "source": [
    "os.rename('test.txt','test.py')"
   ]
  },
  {
   "cell_type": "markdown",
   "metadata": {},
   "source": [
    "删掉文件"
   ]
  },
  {
   "cell_type": "code",
   "execution_count": 25,
   "metadata": {},
   "outputs": [],
   "source": [
    "os.remove('test.py')"
   ]
  },
  {
   "cell_type": "markdown",
   "metadata": {},
   "source": [
    "列出当前目录下的所以目录"
   ]
  },
  {
   "cell_type": "code",
   "execution_count": 26,
   "metadata": {},
   "outputs": [
    {
     "data": {
      "text/plain": [
       "['.ipynb_checkpoints']"
      ]
     },
     "execution_count": 26,
     "metadata": {},
     "output_type": "execute_result"
    }
   ],
   "source": [
    "[x for x in os.listdir('.') if os.path.isdir(x)]"
   ]
  },
  {
   "cell_type": "markdown",
   "metadata": {},
   "source": [
    "列出`.py`文件"
   ]
  },
  {
   "cell_type": "code",
   "execution_count": 28,
   "metadata": {},
   "outputs": [
    {
     "data": {
      "text/plain": [
       "['test.py']"
      ]
     },
     "execution_count": 28,
     "metadata": {},
     "output_type": "execute_result"
    }
   ],
   "source": [
    "[x for x in os.listdir('.') if os.path.isfile(x) and os.path.splitext(x)[1] == '.py']"
   ]
  },
  {
   "cell_type": "code",
   "execution_count": 32,
   "metadata": {},
   "outputs": [],
   "source": [
    "def dir(f):\n",
    "    if os.path.exists(f):\n",
    "        print(1)\n",
    "    else:\n",
    "        print(-1)"
   ]
  },
  {
   "cell_type": "code",
   "execution_count": 44,
   "metadata": {},
   "outputs": [
    {
     "name": "stdout",
     "output_type": "stream",
     "text": [
      "-1\n"
     ]
    }
   ],
   "source": [
    "dir('test.txt')"
   ]
  },
  {
   "cell_type": "markdown",
   "metadata": {},
   "source": [
    "### 小练习"
   ]
  },
  {
   "cell_type": "markdown",
   "metadata": {},
   "source": [
    "编写一个程序，能在当前目录以及当前目录的所有子目录下查找文件名包含指定字符串的文件，并打印出相对路径。"
   ]
  },
  {
   "cell_type": "code",
   "execution_count": 45,
   "metadata": {},
   "outputs": [],
   "source": [
    "def list(a,b):\n",
    "    for file in os.listdir(a):#遍历所有目录\n",
    "        if os.path.isfile(a + '\\\\' + file):#判断是否是文件\n",
    "            if b in file:\n",
    "                print(file,'=>',a + '\\\\' + file)\n",
    "        else:\n",
    "            list(a + '\\\\' + file,b)#继续递归调用"
   ]
  },
  {
   "cell_type": "code",
   "execution_count": 46,
   "metadata": {},
   "outputs": [
    {
     "name": "stdout",
     "output_type": "stream",
     "text": [
      "test.py => F:\\Study-Notes\\Python\\IO编程\\test.py\n"
     ]
    }
   ],
   "source": [
    "if __name__ == '__main__':\n",
    "    list(os.path.abspath('.'),'.py')"
   ]
  }
 ],
 "metadata": {
  "kernelspec": {
   "display_name": "Python 3",
   "language": "python",
   "name": "python3"
  },
  "language_info": {
   "codemirror_mode": {
    "name": "ipython",
    "version": 3
   },
   "file_extension": ".py",
   "mimetype": "text/x-python",
   "name": "python",
   "nbconvert_exporter": "python",
   "pygments_lexer": "ipython3",
   "version": "3.7.0"
  }
 },
 "nbformat": 4,
 "nbformat_minor": 2
}
