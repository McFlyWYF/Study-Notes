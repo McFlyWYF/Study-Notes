{
 "cells": [
  {
   "cell_type": "markdown",
   "metadata": {},
   "source": [
    "## ThreadLocal"
   ]
  },
  {
   "cell_type": "markdown",
   "metadata": {},
   "source": [
    "多线程环境下，每个线程有自己的变量，就是局部变量，而全局变量的修改必须加锁。但局部变量也有问题，在函数调用的时候，传递比较麻烦。"
   ]
  },
  {
   "cell_type": "code",
   "execution_count": 3,
   "metadata": {},
   "outputs": [],
   "source": [
    "def process_student(name):\n",
    "    std = Student(name)\n",
    "    #std是局部变量，每个函数都要用，必须传进去\n",
    "    do_task_1(std)\n",
    "    do_task_2(std)\n",
    "    \n",
    "def do_task_1(std):\n",
    "    do_subtask_1(std)\n",
    "    do_subtask_2(std)    \n",
    "    \n",
    "def do_task_2(std):\n",
    "    do_subtask_1(std)\n",
    "    do_subtask_2(std)"
   ]
  },
  {
   "cell_type": "markdown",
   "metadata": {},
   "source": [
    "解决办法"
   ]
  },
  {
   "cell_type": "markdown",
   "metadata": {},
   "source": [
    "用一个全局dict存放所以得Student对象，以thread自身作为key获得线程对应得Student对象。"
   ]
  },
  {
   "cell_type": "code",
   "execution_count": 6,
   "metadata": {},
   "outputs": [],
   "source": [
    "global_dict = {}\n",
    "\n",
    "def std_thread(name):\n",
    "    std = Student(name)\n",
    "    #把std放到全局变量global_dict中\n",
    "    global_dict[threading.current_thread()] = std\n",
    "    do_task_1()\n",
    "    do_task_2()\n",
    "    \n",
    "def do_task_1():\n",
    "    #不传入std，而是根据当前线程查找\n",
    "    std = global_dict[threading.current_thread()]\n",
    "    ...\n",
    "    \n",
    "def do_task_2():\n",
    "    std = global_dict[threading.current_thread()]\n",
    "    ..."
   ]
  },
  {
   "cell_type": "markdown",
   "metadata": {},
   "source": [
    "消除了std对象在每层函数中传递的问题。"
   ]
  },
  {
   "cell_type": "markdown",
   "metadata": {},
   "source": [
    "代码优化,使用ThreadLocal."
   ]
  },
  {
   "cell_type": "code",
   "execution_count": 7,
   "metadata": {},
   "outputs": [
    {
     "name": "stdout",
     "output_type": "stream",
     "text": [
      "Hello,Alice (in Thread-A)\n",
      "Hello,Bob (in Thread-B)\n"
     ]
    }
   ],
   "source": [
    "import threading\n",
    "\n",
    "#创建全局ThreadLocal对象\n",
    "local_school = threading.local()\n",
    "\n",
    "def process_student():\n",
    "    #获取当前线程关联的student\n",
    "    std = local_school.student\n",
    "    print('Hello,%s (in %s)' % (std,threading.current_thread().name))\n",
    "\n",
    "def process_thread(name):\n",
    "    #绑定ThreadLocal的student\n",
    "    local_school.student = name\n",
    "    process_student()\n",
    "    \n",
    "t1 = threading.Thread(target = process_thread,args = ('Alice',),name = 'Thread-A')\n",
    "t2 = threading.Thread(target = process_thread,args = ('Bob',),name = 'Thread-B')\n",
    "\n",
    "t1.start()\n",
    "t2.start()\n",
    "\n",
    "t1.join()\n",
    "t2.join()"
   ]
  },
  {
   "cell_type": "markdown",
   "metadata": {},
   "source": [
    "全局变量local_shool就是一个ThreadLocal对象，每个Thread对它都可以读写student属性，互不影响。每个local_school。student都是线程的局部变量，可以任意读写而互不干扰，也不用管理锁的问题，ThreadLocal内部会处理。"
   ]
  },
  {
   "cell_type": "markdown",
   "metadata": {},
   "source": [
    "可以理解为全部变量local_school是一个dict，还可以绑定其他变量，如local_school.teacher。"
   ]
  },
  {
   "cell_type": "markdown",
   "metadata": {},
   "source": [
    "ThreadLocal最常用的地方就是为每个线程绑定一个数据库连接，HTTP请求。"
   ]
  },
  {
   "cell_type": "markdown",
   "metadata": {},
   "source": [
    "#### 一个 ThreadLocal 变量虽然是全局变量，但每个线程都只能读写自己线程的独立副本，互不干扰。ThreadLocal 解决了参数在一个线程中各个函数之间互相传递的问题。"
   ]
  }
 ],
 "metadata": {
  "kernelspec": {
   "display_name": "Python 3",
   "language": "python",
   "name": "python3"
  },
  "language_info": {
   "codemirror_mode": {
    "name": "ipython",
    "version": 3
   },
   "file_extension": ".py",
   "mimetype": "text/x-python",
   "name": "python",
   "nbconvert_exporter": "python",
   "pygments_lexer": "ipython3",
   "version": "3.7.0"
  }
 },
 "nbformat": 4,
 "nbformat_minor": 2
}
