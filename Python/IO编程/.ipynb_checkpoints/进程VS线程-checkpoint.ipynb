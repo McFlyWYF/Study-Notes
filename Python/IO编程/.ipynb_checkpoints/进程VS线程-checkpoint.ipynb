{
 "cells": [
  {
   "cell_type": "markdown",
   "metadata": {},
   "source": [
    "## 进程 VS 线程"
   ]
  },
  {
   "cell_type": "markdown",
   "metadata": {},
   "source": [
    "* Master-Worker模式：Master负责分配任务，Worker负责执行任务，多任务环境下，一个Master，多个Worker。"
   ]
  },
  {
   "cell_type": "markdown",
   "metadata": {},
   "source": [
    "* 多进程模式最大的优点就是稳定性高，因为一个子进程崩溃了，不会影响主进程和其他子进程。"
   ]
  },
  {
   "cell_type": "markdown",
   "metadata": {},
   "source": [
    "* 多进程模式的缺点是创建进程的代价大。"
   ]
  },
  {
   "cell_type": "markdown",
   "metadata": {},
   "source": [
    "* 多线程模式比多进程快一点，多线程的缺点就是任何一个线程挂掉都可能直接造成整个进程崩溃，因为所有线程共享进程的内存。"
   ]
  },
  {
   "cell_type": "markdown",
   "metadata": {},
   "source": [
    "### 线程切换"
   ]
  },
  {
   "cell_type": "markdown",
   "metadata": {},
   "source": [
    "操作系统在切换进程或者线程时也是一样的，它需要先保存当前执行的现场环境（CPU 寄存器状态、内存页等），然后，把新任务的执行环境准备好（恢复上次的寄\n",
    "存器状态，切换内存页等），才能开始执行。"
   ]
  },
  {
   "cell_type": "markdown",
   "metadata": {},
   "source": [
    "### 计算密集型 vs IO密集型"
   ]
  },
  {
   "cell_type": "markdown",
   "metadata": {},
   "source": [
    "* 计算密集型任务的特点是进行大量的计算，消耗CPU资源。这种计算密集型任务虽然可以用多任务完成，但是任务越多，花在任务切换的时间越多，CPU执行任务的效率就越低。要高效利用CPU，计算密集型任务同时进行的数量应等于CPU核心数。代码运行效率最高的语言，C语言是首选。"
   ]
  },
  {
   "cell_type": "markdown",
   "metadata": {},
   "source": [
    "* 第二种任务的类型是 IO 密集型，涉及到网络、磁盘 IO 的任务都是 IO\n",
    "密集型任务，这类任务的特点是 CPU 消耗很少，任务的大部分时间都\n",
    "在等待 IO 操作完成。对于 IO 密集型任务，任务越多，CPU 效率越高，但也有一个限度。常\n",
    "见的大部分任务都是 IO 密集型任务，比如 Web 应用。使用代码量最少的语言开发，脚本语言是首选。"
   ]
  }
 ],
 "metadata": {
  "kernelspec": {
   "display_name": "Python 3",
   "language": "python",
   "name": "python3"
  },
  "language_info": {
   "codemirror_mode": {
    "name": "ipython",
    "version": 3
   },
   "file_extension": ".py",
   "mimetype": "text/x-python",
   "name": "python",
   "nbconvert_exporter": "python",
   "pygments_lexer": "ipython3",
   "version": "3.7.0"
  }
 },
 "nbformat": 4,
 "nbformat_minor": 2
}
