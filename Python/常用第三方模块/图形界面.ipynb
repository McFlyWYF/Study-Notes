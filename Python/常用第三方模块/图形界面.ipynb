{
 "cells": [
  {
   "cell_type": "markdown",
   "metadata": {},
   "source": [
    "## 图形界面"
   ]
  },
  {
   "cell_type": "markdown",
   "metadata": {},
   "source": [
    "* Python 支持多种图形界面的第三方库，包括：\n",
    " * Tk\n",
    " * wxWidgets\n",
    " * Qt\n",
    " * GTK"
   ]
  },
  {
   "cell_type": "markdown",
   "metadata": {},
   "source": [
    "* python自带的库是支持Tk的Tkinter。"
   ]
  },
  {
   "cell_type": "markdown",
   "metadata": {},
   "source": [
    "* 第一步，导包"
   ]
  },
  {
   "cell_type": "code",
   "execution_count": 3,
   "metadata": {},
   "outputs": [],
   "source": [
    "from tkinter import *"
   ]
  },
  {
   "cell_type": "markdown",
   "metadata": {},
   "source": [
    "* 第二步，从Frame派生一个类，这是所有Widget的父容器"
   ]
  },
  {
   "cell_type": "code",
   "execution_count": 6,
   "metadata": {},
   "outputs": [],
   "source": [
    "class Application(Frame):\n",
    "    def __init__(self,master=None):\n",
    "        Frame.__init__(self,master)\n",
    "        self.pack()\n",
    "        self.createWidgets()\n",
    "\n",
    "    def createWidgets(self):\n",
    "        self.helloLabel = Label(self,text='Hello World')\n",
    "        self.helloLabel.pack()\n",
    "        self.quitButton = Button(self,text='Quit',command = self.quit)\n",
    "        self.quitButton.pack()"
   ]
  },
  {
   "cell_type": "markdown",
   "metadata": {},
   "source": [
    "* pack()方法把 Widget 加入到父容器中，并实现布局。pack()是最简单的\n",
    "布局，grid()可以实现更复杂的布局。"
   ]
  },
  {
   "cell_type": "markdown",
   "metadata": {},
   "source": [
    "* 第三步，实例化Application，并启动消息循环。"
   ]
  },
  {
   "cell_type": "code",
   "execution_count": 7,
   "metadata": {},
   "outputs": [],
   "source": [
    "app = Application()\n",
    "#设置窗口标题\n",
    "app.master.title('Hello World')\n",
    "#主消息循环\n",
    "app.mainloop()"
   ]
  },
  {
   "cell_type": "markdown",
   "metadata": {},
   "source": [
    "### 输入文本"
   ]
  },
  {
   "cell_type": "code",
   "execution_count": 13,
   "metadata": {},
   "outputs": [],
   "source": [
    "from tkinter import *\n",
    "import tkinter.messagebox as messagebox\n",
    "\n",
    "\n",
    "class Application(Frame):\n",
    "    def __init__(self,master=None):\n",
    "        Frame.__init__(self,master)\n",
    "        self.pack()\n",
    "        self.createWidgets()\n",
    "\n",
    "    def createWidgets(self):\n",
    "        self.nameInput = Entry(self)\n",
    "        self.nameInput.pack()\n",
    "        self.alterButton = Button(self,text = 'Hello',command = self.hello)\n",
    "        self.alterButton.pack()\n",
    "        \n",
    "    def hello(self):\n",
    "        name = self.nameInput.get() or 'world'\n",
    "        messagebox.showinfo('Message','Hello, %s' % name)\n",
    "    \n",
    "app = Application()\n",
    "app.master.title('Hello')\n",
    "app.mainloop()"
   ]
  }
 ],
 "metadata": {
  "kernelspec": {
   "display_name": "Python 3",
   "language": "python",
   "name": "python3"
  }
 },
 "nbformat": 4,
 "nbformat_minor": 2
}
