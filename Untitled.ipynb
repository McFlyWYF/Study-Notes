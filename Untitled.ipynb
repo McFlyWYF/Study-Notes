{
 "cells": [
  {
   "cell_type": "code",
   "execution_count": 35,
   "metadata": {
    "scrolled": false
   },
   "outputs": [
    {
     "name": "stdout",
     "output_type": "stream",
     "text": [
      "2.0\n",
      "13.1\n",
      "1.2\n",
      "6.84\n",
      "[1.02 4.  ]\n",
      "直线方程系数a= 1.02 直线方程系数b= 4.0\n"
     ]
    }
   ],
   "source": [
    "from numpy import *;\n",
    "import numpy as np\n",
    "import matplotlib.pyplot as plt\n",
    "\n",
    "'''\n",
    "已知实验数据xi=0.0,0.2,0.4,0.6,0.8\n",
    "            yi=0.9,1.9,2.8,3.3,4.2\n",
    "            用最小二乘法求拟合直线y=a+bx\n",
    "'''\n",
    "\n",
    "\n",
    "def Caucluate(x, y):\n",
    "    a = []\n",
    "    b = []\n",
    "    sum_X2 = 0\n",
    "    sum_XY = 0\n",
    "    i = 0\n",
    "    n = len(x)\n",
    "    sum_X = sum(x)\n",
    "    sum_Y = sum(y)\n",
    "    for i in range(n):\n",
    "        s1 = x[i] * x[i]\n",
    "        a.append(s1)\n",
    "\n",
    "        s2 = x[i] * y[i]\n",
    "        b.append(s2)\n",
    "    sum_X2 = sum(a)\n",
    "    sum_XY = sum(b)\n",
    "\n",
    "    print(round(sum_X,2))\n",
    "    print(round(sum_Y,2))\n",
    "    print(round(sum_X2,2))\n",
    "    print(round(sum_XY,2))\n",
    "    A = np.mat(([n, sum_X], [sum_X, sum_X2]))\n",
    "    b = np.array([sum_Y, sum_XY])\n",
    "    print(np.linalg.solve(A, b))\n",
    "    return np.linalg.solve(A, b)  # 解形如AX=b的线性方程组：np.linalg.solve(A,b)\n",
    "\n",
    "\n",
    "x = [0.0, 0.2, 0.4, 0.6, 0.8]\n",
    "y = [0.9, 1.9, 2.8, 3.3, 4.2]\n",
    "a,b = Caucluate(x, y)\n",
    "print(\"直线方程系数a=\", round(a,2) , \"直线方程系数b=\", round(b,2))"
   ]
  },
  {
   "cell_type": "code",
   "execution_count": 36,
   "metadata": {},
   "outputs": [
    {
     "data": {
      "image/png": "[encoded data removed]",
      "text/plain": [
       "<Figure size 432x288 with 1 Axes>"
      ]
     },
     "metadata": {
      "needs_background": "light"
     },
     "output_type": "display_data"
    }
   ],
   "source": [
    "plt.scatter(x,y)\n",
    "x = np.array(x)\n",
    "y = a + b * x\n",
    "plt.plot(x,y,'r-')\n",
    "\n",
    "plt.show()"
   ]
  }
 ],
 "metadata": {
  "kernelspec": {
   "display_name": "Python 3",
   "language": "python",
   "name": "python3"
  },
  "language_info": {
   "codemirror_mode": {
    "name": "ipython",
    "version": 3
   },
   "file_extension": ".py",
   "mimetype": "text/x-python",
   "name": "python",
   "nbconvert_exporter": "python",
   "pygments_lexer": "ipython3",
   "version": "3.7.0"
  }
 },
 "nbformat": 4,
 "nbformat_minor": 2
}
