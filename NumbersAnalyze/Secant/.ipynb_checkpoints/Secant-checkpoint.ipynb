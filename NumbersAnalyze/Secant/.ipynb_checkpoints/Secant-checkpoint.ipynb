{
 "cells": [
  {
   "cell_type": "markdown",
   "metadata": {},
   "source": [
    "## 弦截法"
   ]
  },
  {
   "cell_type": "code",
   "execution_count": 1,
   "metadata": {},
   "outputs": [],
   "source": [
    "import numpy as np\n",
    "import matplotlib.pyplot as plt\n",
    "\n",
    "plt.rcParams['font.sans-serif'] = ['SimHei']  # 用来正常显示中文标签\n",
    "plt.rcParams['axes.unicode_minus'] = False  # 用来正常显示负号"
   ]
  },
  {
   "cell_type": "code",
   "execution_count": 2,
   "metadata": {},
   "outputs": [],
   "source": [
    "def f(x):\n",
    "    return np.power(x,3) - x - 1"
   ]
  },
  {
   "cell_type": "code",
   "execution_count": 3,
   "metadata": {},
   "outputs": [],
   "source": [
    "def Secant(xstart,x_old):\n",
    "    flag = True\n",
    "    k = 1\n",
    "    list_xstart = []  # 存储每次开始的x值\n",
    "    list_new = []  # 存储每次迭代之后的新值\n",
    "    list_loss = []  # 存储loss\n",
    "    list_f = []  # 存储该点的函数值\n",
    "\n",
    "    while flag:\n",
    "        xi = xstart\n",
    "        if k!=1:\n",
    "            x_old = list_xstart[-1]\n",
    "        xii = xi - (f(xi) * (x_old - xi)) / (f(x_old) - f(xi))\n",
    "        list_xstart.append(xi)\n",
    "        list_loss.append(abs(xii - xi) / xii)\n",
    "        list_f.append(f(xi))\n",
    "        if (abs(xii - xi) / xii) < 0.0001:\n",
    "            print('零点值是：%.5f' % xi)\n",
    "            print('迭代次数是：', k)\n",
    "            flag = False\n",
    "        else:\n",
    "            xstart = xii\n",
    "            list_new.append(xii)\n",
    "            k = k + 1\n",
    "\n",
    "    plt.subplot(211)\n",
    "    x = np.arange(0, 3, 0.1)\n",
    "    y = np.power(x, 3) - x - 1\n",
    "    plt.plot(x, y)\n",
    "    plt.axis([0, 3, -10, 20])\n",
    "    for i in range(len(list_xstart)):\n",
    "        plt.scatter(list_xstart[i], 0, c='r')\n",
    "\n",
    "    for i in range(len(list_new)):\n",
    "        plt.plot([list_xstart[i], list_new[i]], [list_f[i], 0], c='r')\n",
    "\n",
    "    plt.plot([-3, 3], [0, 0])\n",
    "    plt.title('Secant函数图')\n",
    "\n",
    "    plt.subplot(212)\n",
    "    plt.plot(list_loss)\n",
    "    plt.title('loss曲线')\n",
    "    plt.show()"
   ]
  },
  {
   "cell_type": "code",
   "execution_count": 4,
   "metadata": {},
   "outputs": [
    {
     "name": "stdout",
     "output_type": "stream",
     "text": [
      "零点值是：1.32472\n",
      "迭代次数是： 7\n"
     ]
    },
    {
     "data": {
      "image/png": "[encoded data removed]",
      "text/plain": [
       "<Figure size 432x288 with 2 Axes>"
      ]
     },
     "metadata": {
      "needs_background": "light"
     },
     "output_type": "display_data"
    }
   ],
   "source": [
    "if __name__ == '__main__':\n",
    "    Secant(2,3)"
   ]
  }
 ],
 "metadata": {
  "kernelspec": {
   "display_name": "Python 3",
   "language": "python",
   "name": "python3"
  },
  "language_info": {
   "codemirror_mode": {
    "name": "ipython",
    "version": 3
   },
   "file_extension": ".py",
   "mimetype": "text/x-python",
   "name": "python",
   "nbconvert_exporter": "python",
   "pygments_lexer": "ipython3",
   "version": "3.7.0"
  }
 },
 "nbformat": 4,
 "nbformat_minor": 2
}
