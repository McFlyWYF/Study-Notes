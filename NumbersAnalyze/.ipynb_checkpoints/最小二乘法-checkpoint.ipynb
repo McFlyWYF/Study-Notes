{
 "cells": [
  {
   "cell_type": "code",
   "execution_count": 1,
   "metadata": {},
   "outputs": [],
   "source": [
    "import matplotlib.pyplot as plt\n",
    "import numpy as np\n",
    "import random\n",
    "\n",
    "plt.rcParams['font.sans-serif'] = ['SimHei']\n",
    "plt.rcParams['axes.unicode_minus'] = False"
   ]
  },
  {
   "cell_type": "code",
   "execution_count": 2,
   "metadata": {},
   "outputs": [
    {
     "data": {
      "text/plain": [
       "[<matplotlib.lines.Line2D at 0x1880180cac8>]"
      ]
     },
     "execution_count": 2,
     "metadata": {},
     "output_type": "execute_result"
    },
    {
     "data": {
      "image/png": "[encoded data removed]",
      "text/plain": [
       "<Figure size 432x288 with 1 Axes>"
      ]
     },
     "metadata": {
      "needs_background": "light"
     },
     "output_type": "display_data"
    }
   ],
   "source": [
    "fig = plt.figure()  \n",
    "ax = fig.add_subplot(111)  \n",
    "\n",
    "#生成直线上的各个点  \n",
    "x = np.arange(-5,5,0.1)  \n",
    "y = [5 * a + 3 for a in x]\n",
    "\n",
    "# x = [1,2,3,4,5,6,7,8,9,10]\n",
    "# y = [1,2,3,4,5,6,7,8,9,10]\n",
    "\n",
    "#生成的各个点偏移一下，并放入到xa,ya中去\n",
    "i=0  \n",
    "xa=[]  \n",
    "ya=[]  \n",
    "for xx in x:  \n",
    "    yy=y[i]  \n",
    "    d=float(random.randint(20,140)) / 100  \n",
    "    i+=1  \n",
    "    xa.append(xx * d)  \n",
    "    ya.append(yy * d)  \n",
    "x = xa\n",
    "y = ya\n",
    "ax.plot(xa,ya,color='m',linestyle='',marker='.')  "
   ]
  },
  {
   "cell_type": "code",
   "execution_count": 3,
   "metadata": {},
   "outputs": [],
   "source": [
    "def error(x,y):\n",
    "    xy_sum = 0\n",
    "    x_square_sum = 0\n",
    "    for i in range(len(x)):\n",
    "        xy = x[i] * y[i]\n",
    "        xx = x[i] * x[i]\n",
    "        \n",
    "        xy_sum = xy_sum + xy\n",
    "        x_square_sum = x_square_sum + xx\n",
    "    \n",
    "    x_y_sum = sum(x) * sum(y)\n",
    "    \n",
    "    x_sum_square = sum(x)**2\n",
    "    \n",
    "    x_average = sum(x) / len(x)\n",
    "    y_average = sum(y) / len(y)\n",
    "    \n",
    "    return xy_sum,x_y_sum,x_square_sum,x_sum_square,x_average,y_average"
   ]
  },
  {
   "cell_type": "code",
   "execution_count": 4,
   "metadata": {},
   "outputs": [],
   "source": [
    "def compute(xy_sum,x_y_sum,x_square_sum,x_sum_square,n,x_average,y_average):\n",
    "    a1 = (n * xy_sum - x_y_sum) / (n * x_square_sum - x_sum_square)\n",
    "    a0 = y_average - a1 * x_average\n",
    "    return a0,a1"
   ]
  },
  {
   "cell_type": "code",
   "execution_count": 5,
   "metadata": {},
   "outputs": [
    {
     "name": "stdout",
     "output_type": "stream",
     "text": [
      "a0: 2.38        a1: 5.0\n"
     ]
    }
   ],
   "source": [
    "xy_sum,x_y_sum,x_square_sum,x_sum_square,x_average,y_average = error(x,y)\n",
    "a0,a1 = compute(xy_sum,x_y_sum,x_square_sum,x_sum_square,len(x),x_average,y_average)\n",
    "print('a0:',round(a0,2),'      ','a1:',round(a1))"
   ]
  },
  {
   "cell_type": "code",
   "execution_count": 6,
   "metadata": {},
   "outputs": [
    {
     "data": {
      "image/png": "[encoded data removed]",
      "text/plain": [
       "<Figure size 432x288 with 1 Axes>"
      ]
     },
     "metadata": {
      "needs_background": "light"
     },
     "output_type": "display_data"
    }
   ],
   "source": [
    "plt.figure()\n",
    "plt.scatter(x,y,c = 'r')\n",
    "plt.xlim(-6,6)\n",
    "plt.ylim(-30,30)\n",
    "x = np.array(x)\n",
    "y = a0 + a1 * x\n",
    "plt.plot(x,y)\n",
    "plt.title(\"最小二乘法线性拟合\")\n",
    "plt.show()"
   ]
  }
 ],
 "metadata": {
  "kernelspec": {
   "display_name": "Python 3",
   "language": "python",
   "name": "python3"
  },
  "language_info": {
   "codemirror_mode": {
    "name": "ipython",
    "version": 3
   },
   "file_extension": ".py",
   "mimetype": "text/x-python",
   "name": "python",
   "nbconvert_exporter": "python",
   "pygments_lexer": "ipython3",
   "version": "3.7.0"
  }
 },
 "nbformat": 4,
 "nbformat_minor": 2
}
