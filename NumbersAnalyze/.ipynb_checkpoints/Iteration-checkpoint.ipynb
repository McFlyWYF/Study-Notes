{
 "cells": [
  {
   "cell_type": "markdown",
   "metadata": {},
   "source": [
    "## 简单定点迭代法"
   ]
  },
  {
   "cell_type": "code",
   "execution_count": 63,
   "metadata": {},
   "outputs": [
    {
     "name": "stdout",
     "output_type": "stream",
     "text": [
      "方程零点是：1.32487\n",
      "迭代次数是： 6\n"
     ]
    },
    {
     "name": "stderr",
     "output_type": "stream",
     "text": [
      "D:\\Anaconda\\lib\\site-packages\\ipykernel_launcher.py:45: RuntimeWarning: invalid value encountered in power\n"
     ]
    },
    {
     "data": {
      "image/png": "[encoded data removed]",
      "text/plain": [
       "<Figure size 432x288 with 2 Axes>"
      ]
     },
     "metadata": {
      "needs_background": "light"
     },
     "output_type": "display_data"
    }
   ],
   "source": [
    "import numpy as np\n",
    "import matplotlib.pyplot as plt\n",
    "\n",
    "\n",
    "plt.rcParams['font.sans-serif'] = ['SimHei']  # 用来正常显示中文标签\n",
    "plt.rcParams['axes.unicode_minus'] = False  # 用来正常显示负号\n",
    "\n",
    "def f(x):\n",
    "    '''\n",
    "    f = (x + 1)^(1/3)\n",
    "    :param x:\n",
    "    :return:\n",
    "    '''\n",
    "    return np.power(x+1,1/3)\n",
    "\n",
    "def iteration(xstart):\n",
    "    '''\n",
    "    简单定点迭代法\n",
    "    :param xstart:\n",
    "    :return:\n",
    "    '''\n",
    "\n",
    "    flag = True\n",
    "    k = 1\n",
    "    list_xstart = []\n",
    "    list_f = []\n",
    "    list_loss = []\n",
    "\n",
    "    while flag:\n",
    "        xi = f(xstart)\n",
    "        list_xstart.append(xstart)\n",
    "        list_f.append(xi)\n",
    "        list_loss.append(abs((xi - xstart) / xstart))\n",
    "        if abs((xi - xstart) / xstart) < 0.0001:\n",
    "            print('方程零点是：%.5f' % xstart)\n",
    "            print('迭代次数是：',k)\n",
    "            flag = False\n",
    "\n",
    "        else:\n",
    "            xstart = f(xstart)\n",
    "            k = k + 1\n",
    "            \n",
    "    plt.subplot(211)\n",
    "    x = np.arange(-1,3,0.1)\n",
    "    y = np.power(x + 1,1/3)\n",
    "\n",
    "    plt.plot(x,x)\n",
    "    plt.plot(x,y)\n",
    "    i = 0\n",
    "    for i in range(len(list_xstart)):\n",
    "        plt.plot([list_xstart[i],list_xstart[i]],[list_xstart[i],list_f[i]],c = 'r')#绘制每次的连线\n",
    "        i = i + 1\n",
    "    plt.scatter(xi,f(xi),c = 'g')#零点\n",
    "    plt.title('Sample Point Iteration函数图')\n",
    "    \n",
    "    plt.subplot(212)\n",
    "    plt.plot(list_loss)\n",
    "    plt.title('loss曲线')\n",
    "    plt.show()\n",
    "\n",
    "if __name__ == '__main__':\n",
    "    iteration(2)"
   ]
  }
 ],
 "metadata": {
  "kernelspec": {
   "display_name": "Python 3",
   "language": "python",
   "name": "python3"
  },
  "language_info": {
   "codemirror_mode": {
    "name": "ipython",
    "version": 3
   },
   "file_extension": ".py",
   "mimetype": "text/x-python",
   "name": "python",
   "nbconvert_exporter": "python",
   "pygments_lexer": "ipython3",
   "version": "3.7.0"
  }
 },
 "nbformat": 4,
 "nbformat_minor": 2
}
