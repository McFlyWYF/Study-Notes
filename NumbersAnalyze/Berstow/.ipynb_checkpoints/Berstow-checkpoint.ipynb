{
 "cells": [
  {
   "cell_type": "markdown",
   "metadata": {},
   "source": [
    "## 贝尔斯托法"
   ]
  },
  {
   "cell_type": "code",
   "execution_count": 10,
   "metadata": {},
   "outputs": [],
   "source": [
    "import matplotlib.pyplot as plt\n",
    "import numpy as np\n",
    "\n",
    "plt.rcParams['font.sans-serif'] = ['SimHei']  # 用来正常显示中文标签\n",
    "plt.rcParams['axes.unicode_minus'] = False  # 用来正常显示负号"
   ]
  },
  {
   "cell_type": "code",
   "execution_count": 11,
   "metadata": {},
   "outputs": [],
   "source": [
    "def f(x):\n",
    "    return np.power(x,5) - 3.5 * np.power(x,4) + 2.75 * np.power(x,3) + 2.125 * np.power(x,2)- 3.875 * x + 1.25"
   ]
  },
  {
   "cell_type": "code",
   "execution_count": 12,
   "metadata": {},
   "outputs": [],
   "source": [
    "a = [1,-3.5,2.75,2.125,-3.875,1.25]"
   ]
  },
  {
   "cell_type": "code",
   "execution_count": 13,
   "metadata": {},
   "outputs": [],
   "source": [
    "def compute(a,r,s):\n",
    "    r_list = []\n",
    "    s_list = []\n",
    "    flag = True\n",
    "    k = 1\n",
    "    while flag:\n",
    "\n",
    "        b = []\n",
    "        for i,v in enumerate(a):\n",
    "            if i == 0:\n",
    "                b.append(v)\n",
    "            elif i == 1:\n",
    "                b.append(v + r * b[-1])\n",
    "            else:\n",
    "                b.append(v + r * b[-1] + s * b[-2])\n",
    "        \n",
    "        b0 = b[-1]\n",
    "        b1 = b[-2]\n",
    "        c = []\n",
    "        for i,v in enumerate(b):\n",
    "            if i == 0:\n",
    "                c.append(v)\n",
    "            elif i == 1:\n",
    "                c.append(v + r * c[-1])\n",
    "            else:\n",
    "                c.append(v + r * c[-1] + s * c[-2])\n",
    "                \n",
    "        c1 = c[-2]\n",
    "        c2 = c[-3]\n",
    "        c3 = c[-4]\n",
    "        dr = (c3 * b0 - c2 * b1) / (c2 * c2 - c1 * c3)\n",
    "        ds = (c2 * b0 - c1 * b1) / (c1 * c3 - c2 * c2)\n",
    "        \n",
    "        if (abs(dr / r) < 0.01) and (abs(ds / s) < 0.01):\n",
    "            flag = False\n",
    "        else:\n",
    "            k = k + 1\n",
    "        r = r + dr\n",
    "        s = s + ds\n",
    "        r_list.append(r)\n",
    "        s_list.append(s)\n",
    "    return ((r + (r **2 + 4 * s) **(1/2)) / 2,(r - (r **2 + 4 * s) **(1/2)) / 2,a,b,r_list,s_list,k)"
   ]
  },
  {
   "cell_type": "code",
   "execution_count": 14,
   "metadata": {},
   "outputs": [],
   "source": [
    "def Berstow(a):\n",
    "    #阶数为5阶\n",
    "    x1,x2,a,b,r_list,s_list,k = compute(a,4,2)\n",
    "    print('x1 = %.2f   x2 = %.2f' % (x1,x2))\n",
    "    print('迭代次数为：',k)\n",
    "    \n",
    "    plt.figure()\n",
    "    x = np.arange(-3,5,0.1)\n",
    "    plt.plot(x,f(x))\n",
    "    plt.axis([-2,3,-3,4])\n",
    "    plt.hlines(0,plt.xlim()[0],plt.xlim()[1])\n",
    "    plt.scatter([x1,x2],[0,0],c='r')\n",
    "    plt.title('两个不相等的实数根')\n",
    "    plt.show()\n",
    "    \n",
    "    #阶数为3阶\n",
    "    a[5] = b[3]\n",
    "    a[4] = b[2]\n",
    "    a[3] = b[1]\n",
    "    a[2] = b[0]\n",
    "    a[1] = 0\n",
    "    a[0] = 0\n",
    "    r = r_list[-1]\n",
    "    s = s_list[-1]\n",
    "    x3,x4,a,b,r_list,s_list,k = compute(a,r,s)\n",
    "    print('x3 = ',x3,'x4 = ',x4)\n",
    "    print('迭代次数为：',k)\n",
    "    \n",
    "    plt.figure()\n",
    "    x = np.arange(-3,5,0.1)\n",
    "    plt.plot(x,f(x))\n",
    "    plt.axis([-2,3,-3,4])\n",
    "    plt.hlines(0,plt.xlim()[0],plt.xlim()[1])\n",
    "    plt.scatter([x3,x4],[0,0],c='r')\n",
    "    plt.title('两个互为相反的复根')\n",
    "    plt.show()\n",
    "    \n",
    "    #阶数为1阶\n",
    "    r = r_list[-1]\n",
    "    s = s_list[-1]\n",
    "    x5 = round(-(s / r),0)\n",
    "    print('x5 = ',x5)\n",
    "    \n",
    "    plt.figure()\n",
    "    x = np.arange(-3,5,0.1)\n",
    "    plt.plot(x,f(x))\n",
    "    plt.axis([-2,3,-3,4])\n",
    "    plt.hlines(0,plt.xlim()[0],plt.xlim()[1])\n",
    "    plt.scatter(x5,0,c='r')\n",
    "    plt.title('单根')\n",
    "    plt.show()"
   ]
  },
  {
   "cell_type": "code",
   "execution_count": 15,
   "metadata": {},
   "outputs": [
    {
     "name": "stdout",
     "output_type": "stream",
     "text": [
      "x1 = 0.50   x2 = -1.00\n",
      "迭代次数为： 11\n"
     ]
    },
    {
     "data": {
      "image/png": "[encoded data removed]",
      "text/plain": [
       "<Figure size 432x288 with 1 Axes>"
      ]
     },
     "metadata": {
      "needs_background": "light"
     },
     "output_type": "display_data"
    },
    {
     "name": "stdout",
     "output_type": "stream",
     "text": [
      "x3 =  (1.0000201975924714+0.49999076388975255j) x4 =  (1.0000201975924714-0.49999076388975255j)\n",
      "迭代次数为： 5\n"
     ]
    },
    {
     "name": "stderr",
     "output_type": "stream",
     "text": [
      "D:\\Anaconda\\lib\\site-packages\\numpy\\core\\numeric.py:553: ComplexWarning: Casting complex values to real discards the imaginary part\n",
      "  return array(a, dtype, copy=False, order=order, subok=True)\n"
     ]
    },
    {
     "data": {
      "image/png": "[encoded data removed]",
      "text/plain": [
       "<Figure size 432x288 with 1 Axes>"
      ]
     },
     "metadata": {
      "needs_background": "light"
     },
     "output_type": "display_data"
    },
    {
     "name": "stdout",
     "output_type": "stream",
     "text": [
      "x5 =  1.0\n"
     ]
    },
    {
     "data": {
      "image/png": "[encoded data removed]",
      "text/plain": [
       "<Figure size 432x288 with 1 Axes>"
      ]
     },
     "metadata": {
      "needs_background": "light"
     },
     "output_type": "display_data"
    }
   ],
   "source": [
    "if __name__ == '__main__':\n",
    "    Berstow(a)"
   ]
  },
  {
   "cell_type": "code",
   "execution_count": null,
   "metadata": {},
   "outputs": [],
   "source": []
  }
 ],
 "metadata": {
  "kernelspec": {
   "display_name": "Python 3",
   "language": "python",
   "name": "python3"
  },
  "language_info": {
   "codemirror_mode": {
    "name": "ipython",
    "version": 3
   },
   "file_extension": ".py",
   "mimetype": "text/x-python",
   "name": "python",
   "nbconvert_exporter": "python",
   "pygments_lexer": "ipython3",
   "version": "3.7.0"
  }
 },
 "nbformat": 4,
 "nbformat_minor": 2
}
