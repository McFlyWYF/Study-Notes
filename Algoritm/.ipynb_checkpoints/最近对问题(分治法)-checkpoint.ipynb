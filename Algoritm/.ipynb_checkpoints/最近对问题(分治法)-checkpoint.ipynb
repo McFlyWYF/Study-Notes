{
 "cells": [
  {
   "cell_type": "code",
   "execution_count": 181,
   "metadata": {},
   "outputs": [],
   "source": [
    "import matplotlib.pyplot as plt\n",
    "import numpy as np"
   ]
  },
  {
   "cell_type": "code",
   "execution_count": 182,
   "metadata": {},
   "outputs": [],
   "source": [
    "points = ((1,-5),(5,-10),(-8,1),(-5,7),(-2,-9),(5,7),(2,5),(-10,0)) "
   ]
  },
  {
   "cell_type": "code",
   "execution_count": 183,
   "metadata": {},
   "outputs": [],
   "source": [
    "points = sorted(points)"
   ]
  },
  {
   "cell_type": "code",
   "execution_count": 184,
   "metadata": {},
   "outputs": [
    {
     "data": {
      "text/plain": [
       "[(-10, 0), (-8, 1), (-5, 7), (-2, -9), (1, -5), (2, 5), (5, -10), (5, 7)]"
      ]
     },
     "execution_count": 184,
     "metadata": {},
     "output_type": "execute_result"
    }
   ],
   "source": [
    "points"
   ]
  },
  {
   "cell_type": "code",
   "execution_count": 187,
   "metadata": {},
   "outputs": [
    {
     "data": {
      "image/png": "[encoded data removed]",
      "text/plain": [
       "<Figure size 432x288 with 1 Axes>"
      ]
     },
     "metadata": {
      "needs_background": "light"
     },
     "output_type": "display_data"
    }
   ],
   "source": [
    "x = []\n",
    "y = []\n",
    "for i in range(8):\n",
    "    x.append(points[i][0])\n",
    "    y.append(points[i][1])\n",
    "plt.scatter(x,y)\n",
    "plt.show()"
   ]
  },
  {
   "cell_type": "code",
   "execution_count": 189,
   "metadata": {},
   "outputs": [
    {
     "name": "stdout",
     "output_type": "stream",
     "text": [
      "[(-10, 0), (-8, 1), (-5, 7), (-2, -9), (1, -5), (2, 5), (5, -10), (5, 7)]\n",
      "[((-10, 0), (-8, 1))]\n"
     ]
    },
    {
     "data": {
      "image/png": "[encoded data removed]",
      "text/plain": [
       "<Figure size 432x288 with 1 Axes>"
      ]
     },
     "metadata": {
      "needs_background": "light"
     },
     "output_type": "display_data"
    }
   ],
   "source": [
    "import random\n",
    "import matplotlib.pyplot as plt\n",
    "\n",
    "# 存最后结果\n",
    "near = {}\n",
    "point = ((1,-5),(5,-10),(-8,1),(-5,7),(-2,-9),(5,7),(2,5),(-10,0)) \n",
    "buff = {}\n",
    "mini = float(\"inf\")\n",
    "point = sorted(point)\n",
    "n = 8\n",
    "\n",
    "print(point)\n",
    " \n",
    "plt.title(\"坐标分布图\")\n",
    "for i in range(len(point)):\n",
    "    plt.plot(point[i][0], point[i][1], 'ro-')\n",
    " \n",
    " \n",
    "def distance(a, b):\n",
    "    global buff\n",
    "    distance = math.sqrt((a[0]-b[0])**2+(a[1]-b[1])**2)\n",
    "    if distance in buff:\n",
    "        buff[distance].append((a, b))\n",
    "    else:\n",
    "        buff[distance] = [(a, b)]\n",
    "    return distance\n",
    " \n",
    "def judge_mini(temp):\n",
    "    global mini\n",
    "    mini = temp if temp <= mini else mini\n",
    "def fenzhi(point):\n",
    "    for i in range(0, int(n / 2)):\n",
    "        for j in range(i+1, int(n / 2)):\n",
    "            judge_mini(distance(point[i], point[j]))\n",
    "\n",
    "fenzhi(point[0:4])\n",
    "fenzhi(point[4:8])\n",
    "near[mini] = buff[mini][:]\n",
    " \n",
    "print(near[mini])\n",
    " \n",
    "for i in range(0, len(near[mini])):\n",
    "    plt.plot(near[mini][i][0][0],near[mini][i][0][1], \"yo-\")\n",
    "    plt.plot(near[mini][i][1][0],near[mini][i][1][1], \"yo-\")\n",
    "plt.show()"
   ]
  }
 ],
 "metadata": {
  "kernelspec": {
   "display_name": "Python 3",
   "language": "python",
   "name": "python3"
  },
  "language_info": {
   "codemirror_mode": {
    "name": "ipython",
    "version": 3
   },
   "file_extension": ".py",
   "mimetype": "text/x-python",
   "name": "python",
   "nbconvert_exporter": "python",
   "pygments_lexer": "ipython3",
   "version": "3.7.0"
  }
 },
 "nbformat": 4,
 "nbformat_minor": 2
}
