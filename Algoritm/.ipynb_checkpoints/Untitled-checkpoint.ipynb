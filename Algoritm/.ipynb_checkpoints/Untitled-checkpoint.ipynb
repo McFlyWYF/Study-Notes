{
 "cells": [
  {
   "cell_type": "code",
   "execution_count": 114,
   "metadata": {},
   "outputs": [
    {
     "name": "stdout",
     "output_type": "stream",
     "text": [
      "[(4, 3), (13, 9), (23, 6), (7, 10), (20, 21), (26, 26), (27, 5), (0, 10), (25, 11), (8, 29)]\n",
      "\n",
      "\n",
      "\n",
      "\n",
      "(13, 9)\n",
      "-6\n"
     ]
    },
    {
     "data": {
      "image/png": "[encoded data removed]",
      "text/plain": [
       "<Figure size 432x288 with 1 Axes>"
      ]
     },
     "metadata": {
      "needs_background": "light"
     },
     "output_type": "display_data"
    }
   ],
   "source": [
    "import random\n",
    "import numpy\n",
    "import math\n",
    "import matplotlib.pyplot as plt\n",
    " \n",
    "# 暴力求解最近点对问题\n",
    "n = 10\n",
    "\n",
    "# 随机生成n个坐标\n",
    "point = [(random.randint(0, 3*n), random.randint(0, 3*n)) for i in range(0, n)]\n",
    "   \n",
    "print(point)\n",
    "print(\"\\n\\n\\n\")\n",
    "print(point[1])\n",
    "\n",
    "print(point[0][1] - point[1][1])\n",
    "def distance():\n",
    "    for i in range(10):\n",
    "        pass\n",
    "        #d = (point[i][0] - point[i+1][0])**2 + (point[i+1][])\n",
    "plt.xlim(0, 3*n)\n",
    "plt.ylim(0, 3*n)\n",
    "plt.title(\"随机点\")\n",
    "for i in range(len(point)):\n",
    "    plt.plot(point[i][0], point[i][1], 'ro-')\n",
    "plt.show()"
   ]
  },
  {
   "cell_type": "code",
   "execution_count": null,
   "metadata": {},
   "outputs": [],
   "source": []
  },
  {
   "cell_type": "code",
   "execution_count": null,
   "metadata": {},
   "outputs": [],
   "source": []
  }
 ],
 "metadata": {
  "kernelspec": {
   "display_name": "Python 3",
   "language": "python",
   "name": "python3"
  },
  "language_info": {
   "codemirror_mode": {
    "name": "ipython",
    "version": 3
   },
   "file_extension": ".py",
   "mimetype": "text/x-python",
   "name": "python",
   "nbconvert_exporter": "python",
   "pygments_lexer": "ipython3",
   "version": "3.7.0"
  }
 },
 "nbformat": 4,
 "nbformat_minor": 2
}
