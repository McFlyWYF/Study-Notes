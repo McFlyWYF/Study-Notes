{
 "cells": [
  {
   "cell_type": "code",
   "execution_count": 1,
   "metadata": {},
   "outputs": [],
   "source": [
    "import matplotlib.pyplot as plt\n",
    "import numpy as np"
   ]
  },
  {
   "cell_type": "code",
   "execution_count": 82,
   "metadata": {},
   "outputs": [],
   "source": [
    "def convex_hull(points):\n",
    "    points = sorted(set(points))\n",
    "\n",
    "    if len(points) <= 1:\n",
    "        return points\n",
    "        \n",
    "    def cross(o, a, b):\n",
    "        return (a[0] - o[0]) * (b[1] - o[1]) - (a[1] - o[1]) * (b[0] - o[0])\n",
    "\n",
    "    lower = []\n",
    "    for p in points:\n",
    "        while len(lower) >= 2 and cross(lower[-2], lower[-1], p) <= 0:\n",
    "            lower.pop()\n",
    "        lower.append(p)\n",
    "\n",
    "    upper = []\n",
    "    for p in reversed(points):\n",
    "        while len(upper) >= 2 and cross(upper[-2], upper[-1], p) <= 0:\n",
    "            upper.pop()\n",
    "        upper.append(p)\n",
    "\n",
    "    return lower[:-1] + upper[:-1]"
   ]
  },
  {
   "cell_type": "code",
   "execution_count": 83,
   "metadata": {},
   "outputs": [],
   "source": [
    "points = ((1,-5),(5,-10),(-8,1),(-5,7),(-2,-9),(5,7),(2,5),(-10,0)) "
   ]
  },
  {
   "cell_type": "code",
   "execution_count": 84,
   "metadata": {},
   "outputs": [],
   "source": [
    "point = convex_hull(points)"
   ]
  },
  {
   "cell_type": "code",
   "execution_count": 88,
   "metadata": {},
   "outputs": [
    {
     "data": {
      "text/plain": [
       "[(-10, 0), (-2, -9), (5, -10), (5, 7), (-5, 7)]"
      ]
     },
     "execution_count": 88,
     "metadata": {},
     "output_type": "execute_result"
    }
   ],
   "source": [
    "point"
   ]
  },
  {
   "cell_type": "code",
   "execution_count": 93,
   "metadata": {},
   "outputs": [
    {
     "data": {
      "image/png": "[encoded data removed]",
      "text/plain": [
       "<Figure size 432x288 with 1 Axes>"
      ]
     },
     "metadata": {
      "needs_background": "light"
     },
     "output_type": "display_data"
    }
   ],
   "source": [
    "for i in range(len(point) - 1):\n",
    "    plt.plot([point[i][0],point[i+1][0]],[point[i][1],point[i+1][1]],'r-')\n",
    "plt.plot([point[0][0],point[4][0]],[point[0][1],point[4][1]],'r-')\n",
    "\n",
    "x = []\n",
    "y = []\n",
    "for i in range(8):\n",
    "    x.append(points[i][0])\n",
    "    y.append(points[i][1])\n",
    "plt.scatter(x,y)\n",
    "plt.show()"
   ]
  }
 ],
 "metadata": {
  "kernelspec": {
   "display_name": "Python 3",
   "language": "python",
   "name": "python3"
  },
  "language_info": {
   "codemirror_mode": {
    "name": "ipython",
    "version": 3
   },
   "file_extension": ".py",
   "mimetype": "text/x-python",
   "name": "python",
   "nbconvert_exporter": "python",
   "pygments_lexer": "ipython3",
   "version": "3.7.0"
  }
 },
 "nbformat": 4,
 "nbformat_minor": 2
}
