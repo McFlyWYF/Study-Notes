{
 "cells": [
  {
   "cell_type": "code",
   "execution_count": 44,
   "metadata": {},
   "outputs": [
    {
     "name": "stdout",
     "output_type": "stream",
     "text": [
      "随机生成的点是： [(26, 18), (19, 5), (26, 17), (27, 25), (15, 26), (13, 10), (16, 24), (17, 0), (0, 19), (24, 11)]\n",
      "最近点的坐标是： [((26, 18), (26, 17))] 距离是： 1.0\n"
     ]
    },
    {
     "data": {
      "image/png": "[encoded data removed]",
      "text/plain": [
       "<Figure size 432x288 with 1 Axes>"
      ]
     },
     "metadata": {
      "needs_background": "light"
     },
     "output_type": "display_data"
    }
   ],
   "source": [
    "import random\n",
    "import matplotlib.pyplot as plt\n",
    "\n",
    "plt.rcParams['font.sans-serif'] = ['SimHei']  # 用来正常显示中文标签\n",
    "plt.rcParams['axes.unicode_minus'] = False  # 用来正常显示负号\n",
    "\n",
    "n = 10\n",
    "# 存最后结果\n",
    "near = {}\n",
    "\n",
    "buff = {}\n",
    "mini = float(\"inf\")\n",
    "# 随机生成n个坐标\n",
    "point = [(random.randint(0, 3*n), random.randint(0, 3*n)) for i in range(0, n)]\n",
    "\n",
    "print('随机生成的点是：',point)\n",
    " \n",
    "plt.xlim(0, 3*n)\n",
    "plt.ylim(0, 3*n)\n",
    "plt.title(\"坐标分布图\")\n",
    "for i in range(len(point)):\n",
    "    plt.plot(point[i][0], point[i][1], 'ro-')\n",
    " \n",
    " \n",
    "def distance(a, b):\n",
    "    global buff\n",
    "    distance = math.sqrt((a[0]-b[0])**2+(a[1]-b[1])**2)\n",
    "    if distance in buff:\n",
    "        buff[distance].append((a, b))\n",
    "    else:\n",
    "        buff[distance] = [(a, b)]\n",
    "    return distance\n",
    " \n",
    "def judge_mini(temp):\n",
    "    global mini\n",
    "    mini = temp if temp <= mini else mini\n",
    " \n",
    " \n",
    "# 暴力找最小\n",
    "for i in range(0, n-1):\n",
    "    for j in range(i+1, n):\n",
    "        judge_mini(distance(point[i], point[j]))\n",
    "\n",
    "near[mini] = buff[mini][:]\n",
    " \n",
    "print(\"最近点的坐标是：\",near[mini], \"距离是：\", round(mini,2))\n",
    " \n",
    "for i in range(0, len(near[mini])):\n",
    "    plt.plot(near[mini][i][0][0],near[mini][i][0][1], \"bo-\")\n",
    "    plt.plot(near[mini][i][1][0],near[mini][i][1][1], \"bo-\")\n",
    "plt.show()"
   ]
  }
 ],
 "metadata": {
  "kernelspec": {
   "display_name": "Python 3",
   "language": "python",
   "name": "python3"
  },
  "language_info": {
   "codemirror_mode": {
    "name": "ipython",
    "version": 3
   },
   "file_extension": ".py",
   "mimetype": "text/x-python",
   "name": "python",
   "nbconvert_exporter": "python",
   "pygments_lexer": "ipython3",
   "version": "3.7.0"
  }
 },
 "nbformat": 4,
 "nbformat_minor": 2
}
