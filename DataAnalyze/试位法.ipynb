{
 "cells": [
  {
   "cell_type": "markdown",
   "metadata": {},
   "source": [
    "# 试位法"
   ]
  },
  {
   "cell_type": "markdown",
   "metadata": {},
   "source": [
    "* 试位法是通过连接两个端点的函数值，得到与x轴的交点，多次迭代，逼近零点。"
   ]
  },
  {
   "cell_type": "markdown",
   "metadata": {},
   "source": [
    "### 步骤"
   ]
  },
  {
   "cell_type": "markdown",
   "metadata": {},
   "source": [
    "* 1.输入非线性函数`f(x)`和区间`[a,b]`。\n",
    "* 2.判断f(a) * f(b) > 0，如果是，重新输入区间；否则进行下面操作：\n",
    "    * 2.1.得到与x轴交点的坐标`b' = b - f(b) * (a - b) / (f(a) - f(b))`\n",
    "    * 2.2.如果`f(b')==0`，则`b'`就是零点。否则：\n",
    "    * 2.3.`b = b'`，`least_b' = b'`。\n",
    "    * 2.3.继续计算`b'`的值，得到新的`b'`值。\n",
    "        * 判断`(b' - least_b') / b'`是否满足最小精度值，如果是，则输出b'；否则：继续迭代，直到满足。"
   ]
  },
  {
   "cell_type": "markdown",
   "metadata": {},
   "source": [
    "### 缺点"
   ]
  },
  {
   "cell_type": "markdown",
   "metadata": {},
   "source": [
    "* 当函数图像比较平滑时，则每次与x的交点几乎不移动，迭代次数多，比二分法效果差。"
   ]
  },
  {
   "cell_type": "code",
   "execution_count": 18,
   "metadata": {},
   "outputs": [
    {
     "name": "stdout",
     "output_type": "stream",
     "text": [
      "请输入左端点值:0\n",
      "请输入右端点值:3\n",
      "请输入精度:0.0001\n",
      "零点坐标为: 1.3244908066289387\n",
      "迭代次数为： 26\n",
      "运行时间为: 6.830327272415161\n"
     ]
    }
   ],
   "source": [
    "import numpy as np\n",
    "import math\n",
    "import matplotlib.pyplot as plt\n",
    "import time\n",
    "\n",
    "\n",
    "def fun(x):\n",
    "    f = math.pow(x, 3) - x - 1\n",
    "    return f\n",
    "\n",
    "start = time.time()\n",
    "\n",
    "flag = True\n",
    "list = []  # 存储b1\n",
    "list_acc = []#存储误差\n",
    "\n",
    "while (flag):\n",
    "    a = float(input('请输入左端点值:'))\n",
    "    b = float(input('请输入右端点值:'))\n",
    "    accuracy = float(input('请输入精度:'))\n",
    "\n",
    "    k = 0\n",
    "    if fun(a) * fun(b) > 0:\n",
    "        print('请重新输入！！！')\n",
    "\n",
    "    else:\n",
    "        b1 = b - fun(b) * (a - b) / (fun(a) - fun(b))\n",
    "        while (flag):\n",
    "            if fun(b1) == 0:\n",
    "                print(b1)\n",
    "                print('迭代次数为：',k)\n",
    "            if(fun(b1) * fun(a) < 0):\n",
    "                b = b1\n",
    "            else:\n",
    "                a = b1\n",
    "            least_b1 = b1\n",
    "            list.append(b1)\n",
    "            b1 = b - fun(b) * (a - b) / (fun(a) - fun(b))\n",
    "            list_acc.append((b1 - least_b1) / b1)\n",
    "            if abs((b1 - least_b1) / b1) < accuracy:\n",
    "                print('零点坐标为:',b1)\n",
    "                print('迭代次数为：',k)\n",
    "                flag = False\n",
    "            k = k + 1\n",
    "end = time.time()\n",
    "# print(list)\n",
    "print('运行时间为:',end - start)"
   ]
  },
  {
   "cell_type": "code",
   "execution_count": 19,
   "metadata": {},
   "outputs": [
    {
     "data": {
      "image/png": "[encoded data removed]",
      "text/plain": [
       "<Figure size 432x288 with 2 Axes>"
      ]
     },
     "metadata": {
      "needs_background": "light"
     },
     "output_type": "display_data"
    }
   ],
   "source": [
    "plt.subplot(121)\n",
    "x = np.arange(-2, 5, 0.1)\n",
    "y = x * x * x - x - 1\n",
    "plt.plot(x, y)\n",
    "\n",
    "plt.scatter(b1, 0, c='r')  # 绘制零点\n",
    "plt.plot([-2, 3], [0, 0])  # 绘制y = 0直线\n",
    "plt.plot([b1, b1], [-10, 0])  # 绘制x = b1的直线\n",
    "\n",
    "plt.axis([-2, 3, -5, 25])\n",
    "plt.title('试位法函数图')\n",
    "\n",
    "# 每次与x的交点\n",
    "for x in list:\n",
    "    plt.scatter(x, 0, c='r')\n",
    "    \n",
    "#误差曲线\n",
    "plt.subplot(122)\n",
    "plt.plot(list_acc)\n",
    "plt.show()"
   ]
  }
 ],
 "metadata": {
  "kernelspec": {
   "display_name": "Python 3",
   "language": "python",
   "name": "python3"
  },
  "language_info": {
   "codemirror_mode": {
    "name": "ipython",
    "version": 3
   },
   "file_extension": ".py",
   "mimetype": "text/x-python",
   "name": "python",
   "nbconvert_exporter": "python",
   "pygments_lexer": "ipython3",
   "version": "3.7.0"
  }
 },
 "nbformat": 4,
 "nbformat_minor": 2
}
