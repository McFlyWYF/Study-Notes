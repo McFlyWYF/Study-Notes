{
 "cells": [
  {
   "cell_type": "code",
   "execution_count": 46,
   "metadata": {},
   "outputs": [
    {
     "name": "stdout",
     "output_type": "stream",
     "text": [
      "请输入左端点值:1\n",
      "请输入右端点值:2\n",
      "请输入精度:0.0001\n",
      "1.324737548828125 14\n"
     ]
    }
   ],
   "source": [
    "# 函数f(x) = x^3 - x + 1\n",
    "import math\n",
    "\n",
    "def fun(x):\n",
    "    f = math.pow(x, 3) - x - 1\n",
    "    return f\n",
    "\n",
    "flag = True\n",
    "while (flag):\n",
    "    a = float(input('请输入左端点值:'))\n",
    "    b = float(input('请输入右端点值:'))\n",
    "    accuracy = float(input('请输入精度:'))\n",
    "\n",
    "    k = 0\n",
    "    if fun(a) * fun(b) > 0:\n",
    "        print('请重新输入！！！')\n",
    "    else:\n",
    "        while (flag):\n",
    "            if (fun(a) * fun(b) == 0.0):\n",
    "                if fun(a) == 0.0:  # 函数的最小值刚好是零点\n",
    "                    print(a, k)\n",
    "                    flag = False\n",
    "                else:\n",
    "                    print(b, k)\n",
    "                    flag = False\n",
    "                break\n",
    "            else:\n",
    "                mid = (a + b) / 2  # 找到二者的中点\n",
    "                if abs(b - a) < accuracy:  # 满足最小精度值\n",
    "                    print(mid, k)\n",
    "                    flag = False\n",
    "                    break\n",
    "\n",
    "                else:\n",
    "                    if fun(a) * fun(mid) > 0:\n",
    "                        a = mid  # 中点值在零点左边\n",
    "                    else:\n",
    "                        b = mid  # 中点值在零点右边\n",
    "                    k = k + 1  # 迭代次数"
   ]
  },
  {
   "cell_type": "code",
   "execution_count": 48,
   "metadata": {},
   "outputs": [
    {
     "data": {
      "image/png": "[encoded data removed]",
      "text/plain": [
       "<Figure size 432x288 with 1 Axes>"
      ]
     },
     "metadata": {
      "needs_background": "light"
     },
     "output_type": "display_data"
    }
   ],
   "source": [
    "#绘制函数\n",
    "import numpy as np\n",
    "import matplotlib.pyplot as plt\n",
    "\n",
    "x = np.arange(-2,3,0.1)\n",
    "y = x * x * x - x - 1\n",
    "y1 = 0\n",
    "plt.plot(x,y)\n",
    "plt.plot([-2,3],[0,0])\n",
    "plt.scatter(mid,0,c = 'r')\n",
    "plt.show()"
   ]
  }
 ],
 "metadata": {
  "kernelspec": {
   "display_name": "Python 3",
   "language": "python",
   "name": "python3"
  },
  "language_info": {
   "codemirror_mode": {
    "name": "ipython",
    "version": 3
   },
   "file_extension": ".py",
   "mimetype": "text/x-python",
   "name": "python",
   "nbconvert_exporter": "python",
   "pygments_lexer": "ipython3",
   "version": "3.7.0"
  }
 },
 "nbformat": 4,
 "nbformat_minor": 2
}
