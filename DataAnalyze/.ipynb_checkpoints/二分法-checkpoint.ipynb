{
 "cells": [
  {
   "cell_type": "markdown",
   "metadata": {},
   "source": [
    "# 二分法"
   ]
  },
  {
   "cell_type": "markdown",
   "metadata": {},
   "source": [
    "* 二分法也称为截断法，通过每次取两个区间的中点，多次迭代，不断逼近零点。"
   ]
  },
  {
   "cell_type": "markdown",
   "metadata": {},
   "source": [
    "### 步骤"
   ]
  },
  {
   "cell_type": "markdown",
   "metadata": {},
   "source": [
    "* 1.输入非线性函数`f(x)`和区间`[a,b]`。\n",
    "* 2.判断`f(a) * f(b)`是否大于0\n",
    " * 如果大于0，则该区间不存在零件，重新输入区间，\n",
    " * else：\n",
    "  * 循环：\n",
    "     * if f(a) * f(b) == 0:\n",
    "         * if f(a) == 0:\n",
    "          * 则a就是零点，否则b就是零点。\n",
    "     * 如果不等于0，找到区间的中点`mid`，判断区间的长度是否小于最小精度，如果小于，则输出；\n",
    "     * 如果不小于，判断`f(mid) * f(a) > 0`:则`a = mid`；否则`b = mid`。\n",
    "     * 继续执行，直到满足结果。"
   ]
  },
  {
   "cell_type": "markdown",
   "metadata": {},
   "source": [
    "### 二分法的缺点"
   ]
  },
  {
   "cell_type": "markdown",
   "metadata": {},
   "source": [
    "如果区间的某一个端点就在零点附近时，则不需要多次计算，二分法会执行多次。"
   ]
  },
  {
   "cell_type": "code",
   "execution_count": 21,
   "metadata": {},
   "outputs": [
    {
     "name": "stdout",
     "output_type": "stream",
     "text": [
      "请输入左端点值:0\n",
      "请输入右端点值:3\n",
      "请输入精度:0.0001\n",
      "1.3247222900390625\n",
      "迭代次数为: 15\n",
      "运行时间为: 4.008577108383179\n"
     ]
    }
   ],
   "source": [
    "# 函数f(x) = x^3 - x + 1\n",
    "import math\n",
    "import time\n",
    "\n",
    "def fun(x):\n",
    "    f = math.pow(x, 3) - x - 1\n",
    "    return f\n",
    "\n",
    "start = time.time()\n",
    "list = []#存储每次迭代的与x轴的交点\n",
    "list_acc = []#存储误差\n",
    "flag = True\n",
    "while (flag):\n",
    "    a = float(input('请输入左端点值:'))\n",
    "    b = float(input('请输入右端点值:'))\n",
    "    accuracy = float(input('请输入精度:'))\n",
    "\n",
    "    k = 0\n",
    "    if fun(a) * fun(b) > 0:\n",
    "        print('请重新输入！！！')\n",
    "    else:\n",
    "        while (flag):\n",
    "            if (fun(a) * fun(b) == 0.0):\n",
    "                if fun(a) == 0.0:  # 函数的最小值刚好是零点\n",
    "                    print(a)\n",
    "                    print('迭代次数为:',k)\n",
    "                    flag = False\n",
    "                else:\n",
    "                    print(b)\n",
    "                    print('迭代次数为:',k)\n",
    "\n",
    "                    flag = False\n",
    "                break\n",
    "            else:\n",
    "                mid = (a + b) / 2  # 找到二者的中点\n",
    "                list.append(mid)\n",
    "                list_acc.append(abs(b - a))\n",
    "                if abs(b - a) < accuracy:  # 满足最小精度值\n",
    "                    print(mid)\n",
    "                    print('迭代次数为:',k)\n",
    "\n",
    "                    flag = False\n",
    "                    break\n",
    "\n",
    "                else:\n",
    "                    if fun(a) * fun(mid) > 0:\n",
    "                        a = mid  # 中点值在零点左边\n",
    "                    else:\n",
    "                        b = mid  # 中点值在零点右边\n",
    "                    k = k + 1  # 迭代次数\n",
    "end = time.time()\n",
    "print('运行时间为:',end - start)"
   ]
  },
  {
   "cell_type": "code",
   "execution_count": 22,
   "metadata": {},
   "outputs": [
    {
     "data": {
      "image/png": "[encoded data removed]",
      "text/plain": [
       "<Figure size 432x288 with 2 Axes>"
      ]
     },
     "metadata": {
      "needs_background": "light"
     },
     "output_type": "display_data"
    }
   ],
   "source": [
    "#绘制函数\n",
    "import numpy as np\n",
    "import matplotlib.pyplot as plt\n",
    "\n",
    "plt.subplot(121)\n",
    "x = np.arange(-2,3,0.1)\n",
    "y = x * x * x - x - 1\n",
    "y1 = 0\n",
    "plt.plot(x,y)\n",
    "plt.plot([-2,3],[0,0])\n",
    "plt.plot([mid,mid],[-10,0])\n",
    "plt.axis([-2,3,-6,10])\n",
    "plt.scatter(mid,0,c = 'r')\n",
    "for x in list:\n",
    "    plt.scatter(x,0,c = 'r')\n",
    "    \n",
    "#误差曲线\n",
    "plt.subplot(122)\n",
    "plt.plot(list_acc)\n",
    "plt.show()"
   ]
  }
 ],
 "metadata": {
  "kernelspec": {
   "display_name": "Python 3",
   "language": "python",
   "name": "python3"
  },
  "language_info": {
   "codemirror_mode": {
    "name": "ipython",
    "version": 3
   },
   "file_extension": ".py",
   "mimetype": "text/x-python",
   "name": "python",
   "nbconvert_exporter": "python",
   "pygments_lexer": "ipython3",
   "version": "3.7.0"
  }
 },
 "nbformat": 4,
 "nbformat_minor": 2
}
